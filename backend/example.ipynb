{
 "cells": [
  {
   "cell_type": "code",
   "execution_count": 112,
   "metadata": {},
   "outputs": [],
   "source": [
    "admin_pk = \"0xac0974bec39a17e36ba4a6b4d238ff944bacb478cbed5efcae784d7bf4f2ff80\"\n",
    "\n",
    "unit_pk1 = \"0x59c6995e998f97a5a0044966f0945389dc9e86dae88c7a8412f4603b6b78690d\"\n",
    "\n",
    "employee_pk1 = \"0x7c852118294e51e653712a81e05800f419141751be58f605c371e15141b007a6\"\n",
    "employee_pk2 = \"0x47e179ec197488593b187f80a00eb0da91f1b9d0b13f8733639f19c30a34926a\"\n",
    "\n",
    "endpoint_uri=\"http://127.0.0.1:8545\""
   ]
  },
  {
   "cell_type": "code",
   "execution_count": 113,
   "metadata": {},
   "outputs": [
    {
     "name": "stdout",
     "output_type": "stream",
     "text": [
      "TaxManagement contract address:  0x0165878A594ca255338adfa4d48449f69242Eb8F\n",
      "RMBToken contract address:  0x3B02fF1e626Ed7a8fd6eC5299e2C54e1421B626B\n",
      "TaxToken contract address:  0xBA12646CC07ADBe43F8bD25D83FB628D29C8A762\n"
     ]
    }
   ],
   "source": [
    "import json\n",
    "from web3 import Web3\n",
    "\n",
    "\n",
    "# 获取部署的合约地址\n",
    "\n",
    "\n",
    "# 打开并读取JSON文件\n",
    "with open('../contract/broadcast/TaxManagement.s.sol/31337/run-latest.json', 'r') as file:\n",
    "    data = json.load(file)\n",
    "\n",
    "# 遍历交易记录并查找 contractName 为 RMBToken 的交易\n",
    "for transaction in data['transactions']:\n",
    "    contract_name = transaction.get('contractName')\n",
    "    contract_address = Web3.to_checksum_address(transaction.get('contractAddress'))\n",
    "    if contract_name == 'TaxManagement':\n",
    "        taxmgr_contract_address = contract_address\n",
    "\n",
    "\n",
    "print(\"TaxManagement contract address: \", taxmgr_contract_address)\n",
    "\n",
    "\n",
    "# 配置 web3 contract 实例\n",
    "\n",
    "with open('../contract/out/ERC20.sol/ERC20.json', 'r') as f:\n",
    "    erc20_json = json.load(f)\n",
    "    erc20_abi = erc20_json['abi']\n",
    "\n",
    "with open('../contract/out/TaxManagement.sol/TaxManagement.json', 'r') as f:\n",
    "    taxmgr_json = json.load(f)\n",
    "    taxmgr_abi = taxmgr_json['abi']\n",
    "\n",
    "web3 = Web3(Web3.HTTPProvider(\"http://127.0.0.1:8545\"))\n",
    "\n",
    "\n",
    "contract = web3.eth.contract(address=taxmgr_contract_address, abi=taxmgr_abi)\n",
    "\n",
    "\n",
    "\n",
    "rmbtk_contract_address = contract.functions.getRMBTokenAddress().call()\n",
    "taxtk_contract_address = contract.functions.getTaxTokenAddress().call()\n",
    "\n",
    "\n",
    "print(\"RMBToken contract address: \", rmbtk_contract_address)\n",
    "print(\"TaxToken contract address: \", taxtk_contract_address)\n",
    "\n",
    "rmbtk_contract = web3.eth.contract(address=rmbtk_contract_address, abi=erc20_abi)\n",
    "taxtk_contract = web3.eth.contract(address=taxtk_contract_address, abi=erc20_abi)\n"
   ]
  },
  {
   "cell_type": "code",
   "execution_count": 114,
   "metadata": {},
   "outputs": [],
   "source": [
    "def submit_txn(private_key, transaction):\n",
    "    # 签名交易\n",
    "    signed_txn = web3.eth.account.sign_transaction(transaction, private_key)\n",
    "    print(\"signed_txn: \", signed_txn)\n",
    "\n",
    "    # 发送交易\n",
    "    tx_hash = web3.eth.send_raw_transaction(signed_txn.rawTransaction)\n",
    "    print(\"tx_hash: \", tx_hash)\n",
    "\n",
    "    # 等待交易完成\n",
    "    receipt = web3.eth.wait_for_transaction_receipt(tx_hash)\n",
    "    print(\"receipt: \", receipt)\n",
    "\n",
    "    return receipt\n",
    "\n",
    "admin_address = web3.eth.account.from_key(admin_pk).address"
   ]
  },
  {
   "cell_type": "code",
   "execution_count": 79,
   "metadata": {},
   "outputs": [
    {
     "name": "stdout",
     "output_type": "stream",
     "text": [
      "Account:  0x90F79bf6EB2c4f870365E785982E1f101E93b906\n",
      "['__annotations__', '__class__', '__delattr__', '__dict__', '__dir__', '__doc__', '__eq__', '__format__', '__ge__', '__getattribute__', '__gt__', '__hash__', '__init__', '__init_subclass__', '__le__', '__lt__', '__module__', '__ne__', '__new__', '__reduce__', '__reduce_ex__', '__repr__', '__setattr__', '__sizeof__', '__str__', '__subclasshook__', '__weakref__', '_get_event_abi', '_get_event_filter_params', '_parse_logs', '_process_get_logs_argument_filters', '_set_up_filter_builder', 'abi', 'address', 'build_filter', 'check_for_forbidden_api_filter_arguments', 'contract_abi', 'create_filter', 'event_name', 'factory', 'get_logs', 'process_log', 'process_receipt', 'w3']\n",
      "Events:  []\n",
      "Salary Data:  []\n",
      "[]\n"
     ]
    }
   ],
   "source": [
    "\n",
    "def get_salary_records_from_blockchain(private_key):\n",
    "\n",
    "    # 通过私钥得到地址\n",
    "    PA=web3.eth.account.from_key(private_key)\n",
    "    account = PA.address\n",
    "    print(\"Account: \", account)\n",
    "\n",
    "    # 获取最新区块\n",
    "    latest_block = web3.eth.block_number\n",
    "\n",
    "    print(dir(contract.events.TaxCalculated))\n",
    "\n",
    "    # 定义事件过滤器，假设事件名为TaxCalculated\n",
    "    event_filter = contract.events.TaxCalculated.create_filter(\n",
    "        fromBlock=0,  # 可调整为特定区块范围\n",
    "        toBlock=latest_block,\n",
    "        argument_filters={'employeeAddress': account}\n",
    "    )\n",
    "\n",
    "    # 获取事件日志\n",
    "    events = event_filter.get_all_entries()\n",
    "    print(\"Events: \", events)\n",
    "\n",
    "    # 解析事件日志\n",
    "    salary_data = []\n",
    "    for event in events:\n",
    "        print(\"Event: \", event)\n",
    "        salary_data.append({\n",
    "            \"salary_date\": event['args']['timestamp'],  # 假设事件中有一个时间戳字段\n",
    "            \"gross_salary\": event['args']['grossSalary'],  # 假设事件中有税前工资字段\n",
    "            \"net_salary\": event['args']['netSalary'],\n",
    "            \"tax_amount\": event['args']['taxAmount'],\n",
    "        })\n",
    "\n",
    "    print(\"Salary Data: \", salary_data)\n",
    "\n",
    "    return salary_data\n",
    "\n",
    "\n",
    "print(get_salary_records_from_blockchain(\"0x7c852118294e51e653712a81e05800f419141751be58f605c371e15141b007a6\"))"
   ]
  },
  {
   "cell_type": "code",
   "execution_count": 115,
   "metadata": {},
   "outputs": [
    {
     "name": "stdout",
     "output_type": "stream",
     "text": [
      "transaction:  {'value': 0, 'gas': 106301, 'maxFeePerGas': 1051118808, 'maxPriorityFeePerGas': 1000000000, 'chainId': 31337, 'from': '0xf39Fd6e51aad88F6F4ce6aB8827279cffFb92266', 'nonce': 7, 'to': '0x0165878A594ca255338adfa4d48449f69242Eb8F', 'data': '0xa9f7f24700000000000000000000000070997970c51812dc3a010c7d01b50e0d17dc79c8'}\n",
      "signed_txn:  SignedTransaction(rawTransaction=HexBytes('0x02f891827a6907843b9aca00843ea6ccd883019f3d940165878a594ca255338adfa4d48449f69242eb8f80a4a9f7f24700000000000000000000000070997970c51812dc3a010c7d01b50e0d17dc79c8c001a059267a296cdef216c68d498e0b2f89f502f73b8bceaa55feb775b5dfcea4c672a02394c9312b14f94cd7fbba1454aa256f50ea1761ac55e25469277f1b99f5dd58'), hash=HexBytes('0x0e0affb2410861dd4bd501693483138d9a976837652f2a572729f7936b601979'), r=40323826842249850996815244646942815012812111636765327157776177783728505144946, s=16093831642591672742010510702517493636202224003175393040383431975973187607896, v=1)\n",
      "tx_hash:  b\"\\x0e\\n\\xff\\xb2A\\x08a\\xddK\\xd5\\x01i4\\x83\\x13\\x8d\\x9a\\x97h7e/*W')\\xf7\\x93k`\\x19y\"\n",
      "receipt:  AttributeDict({'type': 2, 'status': 1, 'cumulativeGasUsed': 106301, 'logs': [AttributeDict({'address': '0x3B02fF1e626Ed7a8fd6eC5299e2C54e1421B626B', 'topics': [HexBytes('0xddf252ad1be2c89b69c2b068fc378daa952ba7f163c4a11628f55a4df523b3ef'), HexBytes('0x0000000000000000000000000000000000000000000000000000000000000000'), HexBytes('0x00000000000000000000000070997970c51812dc3a010c7d01b50e0d17dc79c8')], 'data': HexBytes('0x00000000000000000000000000000000000000000000000000000000000186a0'), 'blockHash': HexBytes('0x9cd0b1db8f03d561b0be29b79ffd8500269660f2a104fe092ce26f7056866ea8'), 'blockNumber': 30, 'blockTimestamp': '0x664fa354', 'transactionHash': HexBytes('0x0e0affb2410861dd4bd501693483138d9a976837652f2a572729f7936b601979'), 'transactionIndex': 0, 'logIndex': 0, 'removed': False}), AttributeDict({'address': '0x0165878A594ca255338adfa4d48449f69242Eb8F', 'topics': [HexBytes('0x5110fee5d45252242e961f0282be8170bedfe805a06c1b5289f6c7205fa2cbb6'), HexBytes('0x00000000000000000000000070997970c51812dc3a010c7d01b50e0d17dc79c8')], 'data': HexBytes('0x'), 'blockHash': HexBytes('0x9cd0b1db8f03d561b0be29b79ffd8500269660f2a104fe092ce26f7056866ea8'), 'blockNumber': 30, 'blockTimestamp': '0x664fa354', 'transactionHash': HexBytes('0x0e0affb2410861dd4bd501693483138d9a976837652f2a572729f7936b601979'), 'transactionIndex': 0, 'logIndex': 1, 'removed': False})], 'logsBloom': HexBytes('0x00000002000000000002000000000000000000000000000000000000000000000000000000000000000000000000000000000000000000000000000000000000001000000000000000000008000000000000000000000000000000000000000000000800020000000000000000000800000000000000000000000010000000040000000000000000000000000000800000000000000000000000000008000000000000000000000000000000000000000000008000000000000000000000000000000006000000000000000000000000000004000000000000000000000020000000000000000000000000000000000001004000000000000000000000000000'), 'transactionHash': HexBytes('0x0e0affb2410861dd4bd501693483138d9a976837652f2a572729f7936b601979'), 'transactionIndex': 0, 'blockHash': HexBytes('0x9cd0b1db8f03d561b0be29b79ffd8500269660f2a104fe092ce26f7056866ea8'), 'blockNumber': 30, 'gasUsed': 106301, 'effectiveGasPrice': 1022885432, 'from': '0xf39Fd6e51aad88F6F4ce6aB8827279cffFb92266', 'to': '0x0165878A594ca255338adfa4d48449f69242Eb8F', 'contractAddress': None, 'root': '0xe07330c1da15b8026b69a43b8c07efc191c6004a145e741563e6ede67f0f6255'})\n"
     ]
    },
    {
     "data": {
      "text/plain": [
       "AttributeDict({'type': 2,\n",
       " 'status': 1,\n",
       " 'cumulativeGasUsed': 106301,\n",
       " 'logs': [AttributeDict({'address': '0x3B02fF1e626Ed7a8fd6eC5299e2C54e1421B626B',\n",
       "   'topics': [HexBytes('0xddf252ad1be2c89b69c2b068fc378daa952ba7f163c4a11628f55a4df523b3ef'),\n",
       "    HexBytes('0x0000000000000000000000000000000000000000000000000000000000000000'),\n",
       "    HexBytes('0x00000000000000000000000070997970c51812dc3a010c7d01b50e0d17dc79c8')],\n",
       "   'data': HexBytes('0x00000000000000000000000000000000000000000000000000000000000186a0'),\n",
       "   'blockHash': HexBytes('0x9cd0b1db8f03d561b0be29b79ffd8500269660f2a104fe092ce26f7056866ea8'),\n",
       "   'blockNumber': 30,\n",
       "   'blockTimestamp': '0x664fa354',\n",
       "   'transactionHash': HexBytes('0x0e0affb2410861dd4bd501693483138d9a976837652f2a572729f7936b601979'),\n",
       "   'transactionIndex': 0,\n",
       "   'logIndex': 0,\n",
       "   'removed': False}),\n",
       "  AttributeDict({'address': '0x0165878A594ca255338adfa4d48449f69242Eb8F',\n",
       "   'topics': [HexBytes('0x5110fee5d45252242e961f0282be8170bedfe805a06c1b5289f6c7205fa2cbb6'),\n",
       "    HexBytes('0x00000000000000000000000070997970c51812dc3a010c7d01b50e0d17dc79c8')],\n",
       "   'data': HexBytes('0x'),\n",
       "   'blockHash': HexBytes('0x9cd0b1db8f03d561b0be29b79ffd8500269660f2a104fe092ce26f7056866ea8'),\n",
       "   'blockNumber': 30,\n",
       "   'blockTimestamp': '0x664fa354',\n",
       "   'transactionHash': HexBytes('0x0e0affb2410861dd4bd501693483138d9a976837652f2a572729f7936b601979'),\n",
       "   'transactionIndex': 0,\n",
       "   'logIndex': 1,\n",
       "   'removed': False})],\n",
       " 'logsBloom': HexBytes('0x00000002000000000002000000000000000000000000000000000000000000000000000000000000000000000000000000000000000000000000000000000000001000000000000000000008000000000000000000000000000000000000000000000800020000000000000000000800000000000000000000000010000000040000000000000000000000000000800000000000000000000000000008000000000000000000000000000000000000000000008000000000000000000000000000000006000000000000000000000000000004000000000000000000000020000000000000000000000000000000000001004000000000000000000000000000'),\n",
       " 'transactionHash': HexBytes('0x0e0affb2410861dd4bd501693483138d9a976837652f2a572729f7936b601979'),\n",
       " 'transactionIndex': 0,\n",
       " 'blockHash': HexBytes('0x9cd0b1db8f03d561b0be29b79ffd8500269660f2a104fe092ce26f7056866ea8'),\n",
       " 'blockNumber': 30,\n",
       " 'gasUsed': 106301,\n",
       " 'effectiveGasPrice': 1022885432,\n",
       " 'from': '0xf39Fd6e51aad88F6F4ce6aB8827279cffFb92266',\n",
       " 'to': '0x0165878A594ca255338adfa4d48449f69242Eb8F',\n",
       " 'contractAddress': None,\n",
       " 'root': '0xe07330c1da15b8026b69a43b8c07efc191c6004a145e741563e6ede67f0f6255'})"
      ]
     },
     "execution_count": 115,
     "metadata": {},
     "output_type": "execute_result"
    }
   ],
   "source": [
    "def add_unit(private_key, unit_address):\n",
    "    # 获取账户\n",
    "    account =  web3.eth.account.from_key(private_key)\n",
    "\n",
    "    # 构建交易\n",
    "    nonce = web3.eth.get_transaction_count(account.address)\n",
    "    transaction = contract.functions.addUnit(unit_address).build_transaction({\n",
    "        'from': account.address,\n",
    "        'nonce': nonce,\n",
    "    })\n",
    "    print(\"transaction: \", transaction)\n",
    "\n",
    "    # 签名交易\n",
    "    signed_txn = web3.eth.account.sign_transaction(transaction, private_key)\n",
    "    print(\"signed_txn: \", signed_txn)\n",
    "\n",
    "    # 发送交易\n",
    "    tx_hash = web3.eth.send_raw_transaction(signed_txn.rawTransaction)\n",
    "    print(\"tx_hash: \", tx_hash)\n",
    "\n",
    "    # 等待交易完成\n",
    "    receipt = web3.eth.wait_for_transaction_receipt(tx_hash)\n",
    "    print(\"receipt: \", receipt)\n",
    "    return receipt\n",
    "\n",
    "unit_address = web3.eth.account.from_key(unit_pk1).address\n",
    "\n",
    "add_unit(admin_pk, unit_address)"
   ]
  },
  {
   "cell_type": "code",
   "execution_count": 116,
   "metadata": {},
   "outputs": [
    {
     "name": "stdout",
     "output_type": "stream",
     "text": [
      "Account:  <eth_account.signers.local.LocalAccount object at 0x7f1b33490790>\n",
      "Event:  AttributeDict({'args': AttributeDict({'unitAddress': '0x70997970C51812dc3A010C7d01b50e0d17dc79C8'}), 'event': 'UnitAdded', 'logIndex': 1, 'transactionIndex': 0, 'transactionHash': HexBytes('0x0e0affb2410861dd4bd501693483138d9a976837652f2a572729f7936b601979'), 'address': '0x0165878A594ca255338adfa4d48449f69242Eb8F', 'blockHash': HexBytes('0x9cd0b1db8f03d561b0be29b79ffd8500269660f2a104fe092ce26f7056866ea8'), 'blockNumber': 30})\n",
      "unit address: 0x70997970C51812dc3A010C7d01b50e0d17dc79C8\n"
     ]
    }
   ],
   "source": [
    "def get_units(private_key):\n",
    "    # 获取账户\n",
    "    account =  web3.eth.account.from_key(private_key)\n",
    "    print(\"Account: \", account)\n",
    "\n",
    "    # 获取最新区块\n",
    "    latest_block = web3.eth.block_number\n",
    "\n",
    "    # 定义事件过滤器，假设事件名为TaxCalculated\n",
    "    event_filter = contract.events.UnitAdded.create_filter(\n",
    "        fromBlock=0,  # 可调整为特定区块范围\n",
    "        toBlock=latest_block\n",
    "    )\n",
    "\n",
    "    # 获取事件日志\n",
    "    events = event_filter.get_all_entries()\n",
    "\n",
    "    for event in events:\n",
    "        print(\"Event: \", event)\n",
    "        print(\"unit address:\", event['args']['unitAddress'])\n",
    "\n",
    "get_units(admin_pk)"
   ]
  },
  {
   "cell_type": "code",
   "execution_count": 126,
   "metadata": {},
   "outputs": [],
   "source": [
    "def add_employee(uni_pk, employee_pk, month_salary):\n",
    "\n",
    "    account =  web3.eth.account.from_key(uni_pk)\n",
    "\n",
    "    # print(account.address)\n",
    "    # return\n",
    "\n",
    "    employee_address = web3.eth.account.from_key(employee_pk).address\n",
    "\n",
    "    # 构建交易\n",
    "    nonce = web3.eth.get_transaction_count(account.address)\n",
    "    transaction = contract.functions.addEmployee(\n",
    "        employee_address, month_salary).build_transaction({\n",
    "        'from': account.address,\n",
    "        'nonce': nonce,\n",
    "    })\n",
    "    print(\"transaction: \", transaction)\n",
    "\n",
    "    submit_txn(uni_pk, transaction)\n",
    "\n",
    "    txhash=taxtk_contract.functions.approve(contract_address, 100000000000).transact({'from': employee_address})\n",
    "    tx_receipt = web3.eth.wait_for_transaction_receipt(txhash)\n",
    "\n",
    "    txhash=rmbtk_contract.functions.approve(contract_address, 100000000000).transact({'from': employee_address})\n",
    "    tx_receipt = web3.eth.wait_for_transaction_receipt(txhash)\n",
    "\n",
    "\n",
    "\n",
    "\n",
    "add_employee(unit_pk1, employee_pk1, 10000)"
   ]
  },
  {
   "cell_type": "code",
   "execution_count": 128,
   "metadata": {},
   "outputs": [
    {
     "name": "stdout",
     "output_type": "stream",
     "text": [
      "Account:  <eth_account.signers.local.LocalAccount object at 0x7f1b332f7dc0>\n",
      "Event:  AttributeDict({'args': AttributeDict({'unitAddress': '0x70997970C51812dc3A010C7d01b50e0d17dc79C8', 'employeeAddress': '0x90F79bf6EB2c4f870365E785982E1f101E93b906', 'monthlySalary': 10000}), 'event': 'EmployeeAdded', 'logIndex': 0, 'transactionIndex': 0, 'transactionHash': HexBytes('0x0d55baaa8c0386147af062e744331cd78c191b02bca61842ffcd4501998a52c1'), 'address': '0x0165878A594ca255338adfa4d48449f69242Eb8F', 'blockHash': HexBytes('0x92cd89d1cbecb5a2d887693db4d0a27a6363d0435cfab1ce23864f947b36797e'), 'blockNumber': 31})\n",
      "unit address: 0x70997970C51812dc3A010C7d01b50e0d17dc79C8\n",
      "employee address: 0x90F79bf6EB2c4f870365E785982E1f101E93b906\n",
      "\n"
     ]
    }
   ],
   "source": [
    "def get_employee(private_key):\n",
    "    # 获取账户\n",
    "    account =  web3.eth.account.from_key(private_key)\n",
    "    print(\"Account: \", account)\n",
    "\n",
    "    # 获取最新区块\n",
    "    latest_block = web3.eth.block_number\n",
    "\n",
    "    # 定义事件过滤器，假设事件名为TaxCalculated\n",
    "    event_filter = contract.events.EmployeeAdded.create_filter(\n",
    "        fromBlock=0,  # 可调整为特定区块范围\n",
    "        toBlock=latest_block,\n",
    "        argument_filters={'unitAddress': account.address}\n",
    "    )\n",
    "\n",
    "    # 获取事件日志\n",
    "    events = event_filter.get_all_entries()\n",
    "\n",
    "    for event in events:\n",
    "        print(\"Event: \", event)\n",
    "        print(\"unit address:\", event['args']['unitAddress'])\n",
    "        print(\"employee address:\", event['args']['employeeAddress'])\n",
    "        print()\n",
    "\n",
    "get_employee(unit_pk1)"
   ]
  },
  {
   "cell_type": "code",
   "execution_count": 129,
   "metadata": {},
   "outputs": [
    {
     "name": "stdout",
     "output_type": "stream",
     "text": [
      "transaction:  {'value': 0, 'gas': 209255, 'maxFeePerGas': 1023561928, 'maxPriorityFeePerGas': 1000000000, 'chainId': 31337, 'from': '0x70997970C51812dc3A010C7d01b50e0d17dc79C8', 'nonce': 26, 'to': '0x0165878A594ca255338adfa4d48449f69242Eb8F', 'data': '0xdfab5dc3'}\n",
      "signed_txn:  SignedTransaction(rawTransaction=HexBytes('0x02f871827a691a843b9aca00843d0250c883033167940165878a594ca255338adfa4d48449f69242eb8f8084dfab5dc3c001a0ee92b2cb31f33b2c83a53c97ee56c374f46b8f241e38d962e41b34a1c703a5d8a07ac8ae427b9df92bafd8db42b65dcb26dffca76d7d4739574114155661c84ce1'), hash=HexBytes('0x71d39b896badea23dfc71202703bd3181a65c509160fffab30bef21693e2d530'), r=107909651623254308479285943501652315589884336426449465541457968541795457672664, s=55536739636353396168410991789453039147408516192680311072301760216792499244257, v=1)\n",
      "tx_hash:  b'q\\xd3\\x9b\\x89k\\xad\\xea#\\xdf\\xc7\\x12\\x02p;\\xd3\\x18\\x1ae\\xc5\\t\\x16\\x0f\\xff\\xab0\\xbe\\xf2\\x16\\x93\\xe2\\xd50'\n",
      "receipt:  AttributeDict({'type': 2, 'status': 1, 'cumulativeGasUsed': 189355, 'logs': [AttributeDict({'address': '0xBA12646CC07ADBe43F8bD25D83FB628D29C8A762', 'topics': [HexBytes('0xddf252ad1be2c89b69c2b068fc378daa952ba7f163c4a11628f55a4df523b3ef'), HexBytes('0x0000000000000000000000000000000000000000000000000000000000000000'), HexBytes('0x00000000000000000000000090f79bf6eb2c4f870365e785982e1f101e93b906')], 'data': HexBytes('0x00000000000000000000000000000000000000000000000000000000000002e9'), 'blockHash': HexBytes('0x07bd77bbd4a43910491671076ad2377d6d77da53dd08d6e8093fafe67a522025'), 'blockNumber': 36, 'blockTimestamp': '0x664fa491', 'transactionHash': HexBytes('0x71d39b896badea23dfc71202703bd3181a65c509160fffab30bef21693e2d530'), 'transactionIndex': 0, 'logIndex': 0, 'removed': False}), AttributeDict({'address': '0xBA12646CC07ADBe43F8bD25D83FB628D29C8A762', 'topics': [HexBytes('0xddf252ad1be2c89b69c2b068fc378daa952ba7f163c4a11628f55a4df523b3ef'), HexBytes('0x00000000000000000000000090f79bf6eb2c4f870365e785982e1f101e93b906'), HexBytes('0x00000000000000000000000070997970c51812dc3a010c7d01b50e0d17dc79c8')], 'data': HexBytes('0x00000000000000000000000000000000000000000000000000000000000002e9'), 'blockHash': HexBytes('0x07bd77bbd4a43910491671076ad2377d6d77da53dd08d6e8093fafe67a522025'), 'blockNumber': 36, 'blockTimestamp': '0x664fa491', 'transactionHash': HexBytes('0x71d39b896badea23dfc71202703bd3181a65c509160fffab30bef21693e2d530'), 'transactionIndex': 0, 'logIndex': 1, 'removed': False}), AttributeDict({'address': '0x0165878A594ca255338adfa4d48449f69242Eb8F', 'topics': [HexBytes('0x47c4de62e8d4c3f6f5d4994d87c0dacde1d00f45f9c7c4d97263a56e96c02d41'), HexBytes('0x00000000000000000000000090f79bf6eb2c4f870365e785982e1f101e93b906')], 'data': HexBytes('0x00000000000000000000000000000000000000000000000000000000000002e90000000000000000000000000000000000000000000000000000000000002427'), 'blockHash': HexBytes('0x07bd77bbd4a43910491671076ad2377d6d77da53dd08d6e8093fafe67a522025'), 'blockNumber': 36, 'blockTimestamp': '0x664fa491', 'transactionHash': HexBytes('0x71d39b896badea23dfc71202703bd3181a65c509160fffab30bef21693e2d530'), 'transactionIndex': 0, 'logIndex': 2, 'removed': False}), AttributeDict({'address': '0x0165878A594ca255338adfa4d48449f69242Eb8F', 'topics': [HexBytes('0x1697c0a29a303281897a66f1b887a0a75e5ee9d3c4d394abd701474dfd425322'), HexBytes('0x00000000000000000000000070997970c51812dc3a010c7d01b50e0d17dc79c8')], 'data': HexBytes('0x00000000000000000000000000000000000000000000000000000000000002e9'), 'blockHash': HexBytes('0x07bd77bbd4a43910491671076ad2377d6d77da53dd08d6e8093fafe67a522025'), 'blockNumber': 36, 'blockTimestamp': '0x664fa491', 'transactionHash': HexBytes('0x71d39b896badea23dfc71202703bd3181a65c509160fffab30bef21693e2d530'), 'transactionIndex': 0, 'logIndex': 3, 'removed': False})], 'logsBloom': HexBytes('0x00000000000000000002000000000000000000000000000000000000080000000000000000000000000000000000000000000080000000000000000000000002001000000000000000000008000000000000000000000000000000000000000000040800020000000000000000000800000000000000000000000010000000040000000000000010000000000000000000000040100000000400000000000000000000000000000000000000000000000000000000000000000000000000000000000006000000000000000000000000400000000000000000000002000020000000000000000000000010000000000001000000040000000000000000000000'), 'transactionHash': HexBytes('0x71d39b896badea23dfc71202703bd3181a65c509160fffab30bef21693e2d530'), 'transactionIndex': 0, 'blockHash': HexBytes('0x07bd77bbd4a43910491671076ad2377d6d77da53dd08d6e8093fafe67a522025'), 'blockNumber': 36, 'gasUsed': 189355, 'effectiveGasPrice': 1010312894, 'from': '0x70997970C51812dc3A010C7d01b50e0d17dc79C8', 'to': '0x0165878A594ca255338adfa4d48449f69242Eb8F', 'contractAddress': None, 'root': '0xcc894db9fa4f4b35e8b1892a2ec4722ac96d4187cf7aec7175f55b7a06b411f9'})\n",
      "AttributeDict({'type': 2, 'status': 1, 'cumulativeGasUsed': 189355, 'logs': [AttributeDict({'address': '0xBA12646CC07ADBe43F8bD25D83FB628D29C8A762', 'topics': [HexBytes('0xddf252ad1be2c89b69c2b068fc378daa952ba7f163c4a11628f55a4df523b3ef'), HexBytes('0x0000000000000000000000000000000000000000000000000000000000000000'), HexBytes('0x00000000000000000000000090f79bf6eb2c4f870365e785982e1f101e93b906')], 'data': HexBytes('0x00000000000000000000000000000000000000000000000000000000000002e9'), 'blockHash': HexBytes('0x07bd77bbd4a43910491671076ad2377d6d77da53dd08d6e8093fafe67a522025'), 'blockNumber': 36, 'blockTimestamp': '0x664fa491', 'transactionHash': HexBytes('0x71d39b896badea23dfc71202703bd3181a65c509160fffab30bef21693e2d530'), 'transactionIndex': 0, 'logIndex': 0, 'removed': False}), AttributeDict({'address': '0xBA12646CC07ADBe43F8bD25D83FB628D29C8A762', 'topics': [HexBytes('0xddf252ad1be2c89b69c2b068fc378daa952ba7f163c4a11628f55a4df523b3ef'), HexBytes('0x00000000000000000000000090f79bf6eb2c4f870365e785982e1f101e93b906'), HexBytes('0x00000000000000000000000070997970c51812dc3a010c7d01b50e0d17dc79c8')], 'data': HexBytes('0x00000000000000000000000000000000000000000000000000000000000002e9'), 'blockHash': HexBytes('0x07bd77bbd4a43910491671076ad2377d6d77da53dd08d6e8093fafe67a522025'), 'blockNumber': 36, 'blockTimestamp': '0x664fa491', 'transactionHash': HexBytes('0x71d39b896badea23dfc71202703bd3181a65c509160fffab30bef21693e2d530'), 'transactionIndex': 0, 'logIndex': 1, 'removed': False}), AttributeDict({'address': '0x0165878A594ca255338adfa4d48449f69242Eb8F', 'topics': [HexBytes('0x47c4de62e8d4c3f6f5d4994d87c0dacde1d00f45f9c7c4d97263a56e96c02d41'), HexBytes('0x00000000000000000000000090f79bf6eb2c4f870365e785982e1f101e93b906')], 'data': HexBytes('0x00000000000000000000000000000000000000000000000000000000000002e90000000000000000000000000000000000000000000000000000000000002427'), 'blockHash': HexBytes('0x07bd77bbd4a43910491671076ad2377d6d77da53dd08d6e8093fafe67a522025'), 'blockNumber': 36, 'blockTimestamp': '0x664fa491', 'transactionHash': HexBytes('0x71d39b896badea23dfc71202703bd3181a65c509160fffab30bef21693e2d530'), 'transactionIndex': 0, 'logIndex': 2, 'removed': False}), AttributeDict({'address': '0x0165878A594ca255338adfa4d48449f69242Eb8F', 'topics': [HexBytes('0x1697c0a29a303281897a66f1b887a0a75e5ee9d3c4d394abd701474dfd425322'), HexBytes('0x00000000000000000000000070997970c51812dc3a010c7d01b50e0d17dc79c8')], 'data': HexBytes('0x00000000000000000000000000000000000000000000000000000000000002e9'), 'blockHash': HexBytes('0x07bd77bbd4a43910491671076ad2377d6d77da53dd08d6e8093fafe67a522025'), 'blockNumber': 36, 'blockTimestamp': '0x664fa491', 'transactionHash': HexBytes('0x71d39b896badea23dfc71202703bd3181a65c509160fffab30bef21693e2d530'), 'transactionIndex': 0, 'logIndex': 3, 'removed': False})], 'logsBloom': HexBytes('0x00000000000000000002000000000000000000000000000000000000080000000000000000000000000000000000000000000080000000000000000000000002001000000000000000000008000000000000000000000000000000000000000000040800020000000000000000000800000000000000000000000010000000040000000000000010000000000000000000000040100000000400000000000000000000000000000000000000000000000000000000000000000000000000000000000006000000000000000000000000400000000000000000000002000020000000000000000000000010000000000001000000040000000000000000000000'), 'transactionHash': HexBytes('0x71d39b896badea23dfc71202703bd3181a65c509160fffab30bef21693e2d530'), 'transactionIndex': 0, 'blockHash': HexBytes('0x07bd77bbd4a43910491671076ad2377d6d77da53dd08d6e8093fafe67a522025'), 'blockNumber': 36, 'gasUsed': 189355, 'effectiveGasPrice': 1010312894, 'from': '0x70997970C51812dc3A010C7d01b50e0d17dc79C8', 'to': '0x0165878A594ca255338adfa4d48449f69242Eb8F', 'contractAddress': None, 'root': '0xcc894db9fa4f4b35e8b1892a2ec4722ac96d4187cf7aec7175f55b7a06b411f9'})\n"
     ]
    }
   ],
   "source": [
    "def settleTaxes(private_key):\n",
    "\n",
    "    account =  web3.eth.account.from_key(private_key)\n",
    "\n",
    "    # 构建交易\n",
    "    nonce = web3.eth.get_transaction_count(account.address)\n",
    "    transaction = contract.functions.settleTaxes().build_transaction({\n",
    "        'from': account.address,\n",
    "        'nonce': nonce,\n",
    "    })\n",
    "    print(\"transaction: \", transaction)\n",
    "\n",
    "    res = submit_txn(private_key, transaction)\n",
    "    print(res)\n",
    "\n",
    "settleTaxes(unit_pk1)"
   ]
  },
  {
   "cell_type": "code",
   "execution_count": 130,
   "metadata": {},
   "outputs": [
    {
     "name": "stdout",
     "output_type": "stream",
     "text": [
      "taxes:  745\n"
     ]
    }
   ],
   "source": [
    "def getTaxes(private_key):\n",
    "\n",
    "    account =  web3.eth.account.from_key(private_key)\n",
    "    res = contract.functions.getTaxes().call({\"from\": account.address})\n",
    "    print(\"taxes: \", res)\n",
    "\n",
    "# def getTaxes(private_key):\n",
    "#     account =  web3.eth.account.from_key(private_key)\n",
    "#     print(\"Account: \", account)\n",
    "\n",
    "#     # 获取最新区块\n",
    "#     latest_block = web3.eth.block_number\n",
    "\n",
    "#     # 定义事件过滤器，假设事件名为TaxCalculated\n",
    "#     event_filter = contract.events.TaxSettlement.create_filter(\n",
    "#         fromBlock=0,  # 可调整为特定区块范围\n",
    "#         toBlock=latest_block,\n",
    "#         argument_filters={'unitAddress': account.address}\n",
    "#     )\n",
    "\n",
    "#     # 获取事件日志\n",
    "#     events = event_filter.get_all_entries()\n",
    "\n",
    "#     for event in events:\n",
    "#         print(\"Event: \", event)\n",
    "#         print(\"unit address:\", event['args']['unitAddress'])\n",
    "#         print(\"totalTaxDue:\", event['args']['totalTaxDue'])\n",
    "#         print()\n",
    "\n",
    "getTaxes(unit_pk1)"
   ]
  },
  {
   "cell_type": "code",
   "execution_count": 131,
   "metadata": {},
   "outputs": [
    {
     "name": "stdout",
     "output_type": "stream",
     "text": [
      "account <eth_account.signers.local.LocalAccount object at 0x7f1b33104400>\n",
      "account address 0x70997970C51812dc3A010C7d01b50e0d17dc79C8\n",
      "amount:  745\n",
      "transaction:  {'value': 0, 'gas': 115037, 'maxFeePerGas': 1020625788, 'maxPriorityFeePerGas': 1000000000, 'chainId': 31337, 'from': '0x70997970C51812dc3A010C7d01b50e0d17dc79C8', 'nonce': 27, 'to': '0x0165878A594ca255338adfa4d48449f69242Eb8F', 'data': '0x2eab257800000000000000000000000070997970c51812dc3a010c7d01b50e0d17dc79c800000000000000000000000000000000000000000000000000000000000002e9'}\n",
      "signed_txn:  SignedTransaction(rawTransaction=HexBytes('0x02f8b2827a691b843b9aca00843cd5837c8301c15d940165878a594ca255338adfa4d48449f69242eb8f80b8442eab257800000000000000000000000070997970c51812dc3a010c7d01b50e0d17dc79c800000000000000000000000000000000000000000000000000000000000002e9c001a0182ec49672dc66d5abeefd512e1402f6947ab407defdde37c84ad0c1e78de598a01440517f21d6d8757594a8a2b67a09f7d39ae9b1366ca5b0eba7585d54061d79'), hash=HexBytes('0x2e024a031a11ebaf82f5ad4148f111cf5c5b33aa5a7906104270e963533a7a94'), r=10938140129350439273006086060214412534494180969305766774977835297560194835864, s=9159897652742149083158455378536197143443039541423491057270113531919222578553, v=1)\n",
      "tx_hash:  b'.\\x02J\\x03\\x1a\\x11\\xeb\\xaf\\x82\\xf5\\xadAH\\xf1\\x11\\xcf\\\\[3\\xaaZy\\x06\\x10Bp\\xe9cS:z\\x94'\n",
      "receipt:  AttributeDict({'type': 2, 'status': 1, 'cumulativeGasUsed': 105437, 'logs': [AttributeDict({'address': '0x3B02fF1e626Ed7a8fd6eC5299e2C54e1421B626B', 'topics': [HexBytes('0xddf252ad1be2c89b69c2b068fc378daa952ba7f163c4a11628f55a4df523b3ef'), HexBytes('0x00000000000000000000000070997970c51812dc3a010c7d01b50e0d17dc79c8'), HexBytes('0x000000000000000000000000f39fd6e51aad88f6f4ce6ab8827279cfffb92266')], 'data': HexBytes('0x00000000000000000000000000000000000000000000000000000000000002e9'), 'blockHash': HexBytes('0x5c9ad96e6aa7df24b2460c087a36c77da7acf03fa616d3ba673798632aa90dd2'), 'blockNumber': 37, 'blockTimestamp': '0x664fa496', 'transactionHash': HexBytes('0x2e024a031a11ebaf82f5ad4148f111cf5c5b33aa5a7906104270e963533a7a94'), 'transactionIndex': 0, 'logIndex': 0, 'removed': False}), AttributeDict({'address': '0xBA12646CC07ADBe43F8bD25D83FB628D29C8A762', 'topics': [HexBytes('0xddf252ad1be2c89b69c2b068fc378daa952ba7f163c4a11628f55a4df523b3ef'), HexBytes('0x00000000000000000000000070997970c51812dc3a010c7d01b50e0d17dc79c8'), HexBytes('0x000000000000000000000000f39fd6e51aad88f6f4ce6ab8827279cfffb92266')], 'data': HexBytes('0x00000000000000000000000000000000000000000000000000000000000002e9'), 'blockHash': HexBytes('0x5c9ad96e6aa7df24b2460c087a36c77da7acf03fa616d3ba673798632aa90dd2'), 'blockNumber': 37, 'blockTimestamp': '0x664fa496', 'transactionHash': HexBytes('0x2e024a031a11ebaf82f5ad4148f111cf5c5b33aa5a7906104270e963533a7a94'), 'transactionIndex': 0, 'logIndex': 1, 'removed': False}), AttributeDict({'address': '0x0165878A594ca255338adfa4d48449f69242Eb8F', 'topics': [HexBytes('0xd543e5e63123639c28fe5fa8bc2496287e06ae5cb1a85a37a8fcb037c0c9a71e'), HexBytes('0x00000000000000000000000070997970c51812dc3a010c7d01b50e0d17dc79c8')], 'data': HexBytes('0x00000000000000000000000000000000000000000000000000000000000002e90000000000000000000000000000000000000000000000000000000000000000'), 'blockHash': HexBytes('0x5c9ad96e6aa7df24b2460c087a36c77da7acf03fa616d3ba673798632aa90dd2'), 'blockNumber': 37, 'blockTimestamp': '0x664fa496', 'transactionHash': HexBytes('0x2e024a031a11ebaf82f5ad4148f111cf5c5b33aa5a7906104270e963533a7a94'), 'transactionIndex': 0, 'logIndex': 2, 'removed': False})], 'logsBloom': HexBytes('0x00000000000000000002000000000000000000000000000000000000000000000000000000000000000000000000000000000080000000000000000000000000001000000000000000000008000000000000000000000000000000000000000000040800000000000000000100000000000000000000000000000010000000040000000000000000000000000000000000000040000000000000000008000000000002400000000000000000000000000000000020000000000000000000000000000006000000200000000000000000000004002000000000000000000000000000000000000000000000000000000001004000000000000000000000000000'), 'transactionHash': HexBytes('0x2e024a031a11ebaf82f5ad4148f111cf5c5b33aa5a7906104270e963533a7a94'), 'transactionIndex': 0, 'blockHash': HexBytes('0x5c9ad96e6aa7df24b2460c087a36c77da7acf03fa616d3ba673798632aa90dd2'), 'blockNumber': 37, 'gasUsed': 105437, 'effectiveGasPrice': 1009040056, 'from': '0x70997970C51812dc3A010C7d01b50e0d17dc79C8', 'to': '0x0165878A594ca255338adfa4d48449f69242Eb8F', 'contractAddress': None, 'root': '0x27457e80f4b239c58b127fd6ae4efc166a4dc5fe92ffbd09b56aa79d930ab416'})\n"
     ]
    }
   ],
   "source": [
    "def payTaxes(private_key, amount):\n",
    "\n",
    "    account =  web3.eth.account.from_key(private_key)\n",
    "    print(\"account\", account)\n",
    "    print(\"account address\", account.address)\n",
    "    print(\"amount: \", amount)\n",
    "\n",
    "    # 构建交易\n",
    "    nonce = web3.eth.get_transaction_count(account.address)\n",
    "    try:\n",
    "        # rmbtk_contract.functions.approve(contract_address, amount).transact({'from': account.address})\n",
    "        # txhash=taxtk_contract.functions.approve(contract_address, amount).transact({'from': account.address})\n",
    "        # tx_receipt = web3.eth.wait_for_transaction_receipt(txhash)\n",
    "        # print(taxtk_contract.functions.allowance(\n",
    "        #     account.address, contract_address).call({\"from\": account.address}))\n",
    "        # print(taxtk_contract.functions.balanceOf(account.address).call({\"from\": account.address}))\n",
    "        # print(rmbtk_contract.functions.balanceOf(account.address).call({\"from\": account.address}))\n",
    "        # return\n",
    "        transaction = contract.functions.payTaxes(account.address, amount).build_transaction({\n",
    "            'from': account.address,\n",
    "            'nonce': nonce,\n",
    "        })\n",
    "    except Exception as e:\n",
    "        print(\"err:\", e)\n",
    "        return\n",
    "    print(\"transaction: \", transaction)\n",
    "\n",
    "    submit_txn(private_key, transaction)\n",
    "\n",
    "payTaxes(unit_pk1, 745)"
   ]
  },
  {
   "cell_type": "code",
   "execution_count": 132,
   "metadata": {},
   "outputs": [
    {
     "name": "stdout",
     "output_type": "stream",
     "text": [
      "Account:  0x70997970C51812dc3A010C7d01b50e0d17dc79C8\n",
      "Event:  AttributeDict({'args': AttributeDict({'unitAddress': '0x70997970C51812dc3A010C7d01b50e0d17dc79C8', 'taxAmount': 745, 'totalTaxDue': 0}), 'event': 'TaxPayment', 'logIndex': 2, 'transactionIndex': 0, 'transactionHash': HexBytes('0x2e024a031a11ebaf82f5ad4148f111cf5c5b33aa5a7906104270e963533a7a94'), 'address': '0x0165878A594ca255338adfa4d48449f69242Eb8F', 'blockHash': HexBytes('0x5c9ad96e6aa7df24b2460c087a36c77da7acf03fa616d3ba673798632aa90dd2'), 'blockNumber': 37})\n",
      "unit address: 0x70997970C51812dc3A010C7d01b50e0d17dc79C8\n",
      "totalTaxDue: 0\n",
      "taxAmount: 745\n",
      "\n"
     ]
    }
   ],
   "source": [
    "def getPays(private_key):\n",
    "    account =  web3.eth.account.from_key(private_key)\n",
    "    print(\"Account: \", account.address)\n",
    "\n",
    "    # 获取最新区块\n",
    "    latest_block = web3.eth.block_number\n",
    "\n",
    "    # 定义事件过滤器，假设事件名为TaxCalculated\n",
    "    event_filter = contract.events.TaxPayment.create_filter(\n",
    "        fromBlock=0,  # 可调整为特定区块范围\n",
    "        toBlock=latest_block,\n",
    "        argument_filters={'unitAddress': account.address}\n",
    "    )\n",
    "\n",
    "    # 获取事件日志\n",
    "    events = event_filter.get_all_entries()\n",
    "\n",
    "    for event in events:\n",
    "        print(\"Event: \", event)\n",
    "        print(\"unit address:\", event['args']['unitAddress'])\n",
    "        print(\"totalTaxDue:\", event['args']['totalTaxDue'])\n",
    "        print(\"taxAmount:\", event['args']['taxAmount'])\n",
    "        print()\n",
    "\n",
    "getPays(unit_pk1)"
   ]
  },
  {
   "cell_type": "code",
   "execution_count": 133,
   "metadata": {},
   "outputs": [
    {
     "name": "stdout",
     "output_type": "stream",
     "text": [
      "error_signature_hash: 0xfb8f41b23e99d2101d86da76cdfa87dd51c82ed07d3cb62cbc473e469dbc75c3\n",
      "error_data[:10]: 0xfb8f41b2\n",
      "Error: ERC20InsufficientAllowance\n",
      "Owner address: 0x0165878a594ca255338adfa4d48449f69242eb8f\n",
      "Current allowance: 0\n",
      "Required allowance: 745\n"
     ]
    }
   ],
   "source": [
    "# 自定义错误的签名\n",
    "error_signature = \"ERC20InsufficientAllowance(address,uint256,uint256)\"\n",
    "error_signature_hash = Web3.solidity_keccak(['string'], [error_signature]).hex()\n",
    "\n",
    "# 假设错误数据如下\n",
    "error_data = '0xfb8f41b20000000000000000000000000165878a594ca255338adfa4d48449f69242eb8f000000000000000000000000000000000000000000000000000000000000000000000000000000000000000000000000000000000000000000000000000002e9'\n",
    "\n",
    "\n",
    "# 检查错误签名的哈希是否匹配\n",
    "print(\"error_signature_hash:\", error_signature_hash)\n",
    "print(\"error_data[:10]:\", error_data[:10])\n",
    "if error_data[:10] == error_signature_hash[:10]:\n",
    "    # 提取错误参数部分\n",
    "    error_params = error_data[10:]\n",
    "\n",
    "    # 每个参数的偏移量和长度为64字符（32字节）\n",
    "    owner_address = '0x' + error_params[24:64]\n",
    "    current_allowance = int(error_params[64:128], 16)\n",
    "    required_allowance = int(error_params[128:], 16)\n",
    "\n",
    "    print(f\"Error: ERC20InsufficientAllowance\")\n",
    "    print(f\"Owner address: {owner_address}\")\n",
    "    print(f\"Current allowance: {current_allowance}\")\n",
    "    print(f\"Required allowance: {required_allowance}\")\n",
    "else:\n",
    "    print(\"Error signature does not match.\")\n"
   ]
  }
 ],
 "metadata": {
  "kernelspec": {
   "display_name": ".venv",
   "language": "python",
   "name": "python3"
  },
  "language_info": {
   "codemirror_mode": {
    "name": "ipython",
    "version": 3
   },
   "file_extension": ".py",
   "mimetype": "text/x-python",
   "name": "python",
   "nbconvert_exporter": "python",
   "pygments_lexer": "ipython3",
   "version": "3.10.12"
  }
 },
 "nbformat": 4,
 "nbformat_minor": 2
}
