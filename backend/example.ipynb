{
 "cells": [
  {
   "cell_type": "code",
   "execution_count": 52,
   "metadata": {},
   "outputs": [],
   "source": [
    "\n",
    "admin_pk = \"0xac0974bec39a17e36ba4a6b4d238ff944bacb478cbed5efcae784d7bf4f2ff80\"\n",
    "\n",
    "unit_pk1 = \"0x59c6995e998f97a5a0044966f0945389dc9e86dae88c7a8412f4603b6b78690d\"\n",
    "\n",
    "employee_pk1 = \"0x7c852118294e51e653712a81e05800f419141751be58f605c371e15141b007a6\"\n",
    "employee_pk2 = \"0x47e179ec197488593b187f80a00eb0da91f1b9d0b13f8733639f19c30a34926a\""
   ]
  },
  {
   "cell_type": "code",
   "execution_count": 83,
   "metadata": {},
   "outputs": [],
   "source": [
    "endpoint_uri=\"http://127.0.0.1:8545\"\n",
    "import json\n",
    "from web3 import Web3\n",
    "\n",
    "\n",
    "# 配置 web3 contract 实例\n",
    "taxmgr_contract_address = \"0x5FC8d32690cc91D4c39d9d3abcBD16989F875707\"\n",
    "rmbtk_contract_address = \"0xCf7Ed3AccA5a467e9e704C703E8D87F634fB0Fc9\"\n",
    "taxtk_contract_address = \"0xDc64a140Aa3E981100a9becA4E685f962f0cF6C9\"\n",
    "\n",
    "with open('../contract/out/ERC20.sol/ERC20.json', 'r') as f:\n",
    "    erc20_json = json.load(f)\n",
    "    erc20_abi = erc20_json['abi']\n",
    "\n",
    "with open('../contract/out/TaxManagement.sol/TaxManagement.json', 'r') as f:\n",
    "    taxmgr_json = json.load(f)\n",
    "    taxmgr_abi = taxmgr_json['abi']\n",
    "\n",
    "web3 = Web3(Web3.HTTPProvider(\"http://127.0.0.1:8545\"))\n",
    "\n",
    "\n",
    "contract = web3.eth.contract(address=taxmgr_contract_address, abi=taxmgr_abi)\n",
    "rmbtk_contract = web3.eth.contract(address=rmbtk_contract_address, abi=erc20_abi)\n",
    "taxtk_contract = web3.eth.contract(address=taxtk_contract_address, abi=erc20_abi)\n"
   ]
  },
  {
   "cell_type": "code",
   "execution_count": 42,
   "metadata": {},
   "outputs": [],
   "source": [
    "def submit_txn(private_key, transaction):\n",
    "    # 签名交易\n",
    "    signed_txn = web3.eth.account.sign_transaction(transaction, private_key)\n",
    "    print(\"signed_txn: \", signed_txn)\n",
    "\n",
    "    # 发送交易\n",
    "    tx_hash = web3.eth.send_raw_transaction(signed_txn.rawTransaction)\n",
    "    print(\"tx_hash: \", tx_hash)\n",
    "\n",
    "    # 等待交易完成\n",
    "    receipt = web3.eth.wait_for_transaction_receipt(tx_hash)\n",
    "    print(\"receipt: \", receipt)\n",
    "\n",
    "    return receipt"
   ]
  },
  {
   "cell_type": "code",
   "execution_count": 10,
   "metadata": {},
   "outputs": [
    {
     "name": "stdout",
     "output_type": "stream",
     "text": [
      "Account:  0x90F79bf6EB2c4f870365E785982E1f101E93b906\n",
      "['__annotations__', '__class__', '__delattr__', '__dict__', '__dir__', '__doc__', '__eq__', '__format__', '__ge__', '__getattribute__', '__gt__', '__hash__', '__init__', '__init_subclass__', '__le__', '__lt__', '__module__', '__ne__', '__new__', '__reduce__', '__reduce_ex__', '__repr__', '__setattr__', '__sizeof__', '__str__', '__subclasshook__', '__weakref__', '_get_event_abi', '_get_event_filter_params', '_parse_logs', '_process_get_logs_argument_filters', '_set_up_filter_builder', 'abi', 'address', 'build_filter', 'check_for_forbidden_api_filter_arguments', 'contract_abi', 'create_filter', 'event_name', 'factory', 'get_logs', 'process_log', 'process_receipt', 'w3']\n",
      "Events:  []\n",
      "Salary Data:  []\n",
      "[]\n"
     ]
    }
   ],
   "source": [
    "\n",
    "def get_salary_records_from_blockchain(private_key):\n",
    "\n",
    "    # 通过私钥得到地址\n",
    "    PA=web3.eth.account.from_key(private_key)\n",
    "    account = PA.address\n",
    "    print(\"Account: \", account)\n",
    "\n",
    "    # 获取最新区块\n",
    "    latest_block = web3.eth.block_number\n",
    "\n",
    "    print(dir(contract.events.TaxCalculated))\n",
    "\n",
    "    # 定义事件过滤器，假设事件名为TaxCalculated\n",
    "    event_filter = contract.events.TaxCalculated.create_filter(\n",
    "        fromBlock=0,  # 可调整为特定区块范围\n",
    "        toBlock=latest_block,\n",
    "        argument_filters={'employeeAddress': account}\n",
    "    )\n",
    "\n",
    "    # 获取事件日志\n",
    "    events = event_filter.get_all_entries()\n",
    "    print(\"Events: \", events)\n",
    "\n",
    "    # 解析事件日志\n",
    "    salary_data = []\n",
    "    for event in events:\n",
    "        print(\"Event: \", event)\n",
    "        salary_data.append({\n",
    "            \"salary_date\": event['args']['timestamp'],  # 假设事件中有一个时间戳字段\n",
    "            \"gross_salary\": event['args']['grossSalary'],  # 假设事件中有税前工资字段\n",
    "            \"net_salary\": event['args']['netSalary'],\n",
    "            \"tax_amount\": event['args']['taxAmount'],\n",
    "        })\n",
    "\n",
    "    print(\"Salary Data: \", salary_data)\n",
    "\n",
    "    return salary_data\n",
    "\n",
    "\n",
    "print(get_salary_records_from_blockchain(\"0x7c852118294e51e653712a81e05800f419141751be58f605c371e15141b007a6\"))"
   ]
  },
  {
   "cell_type": "code",
   "execution_count": 26,
   "metadata": {},
   "outputs": [
    {
     "ename": "ContractLogicError",
     "evalue": "('execution reverted: revert: Unit already exists', '0x08c379a000000000000000000000000000000000000000000000000000000000000000200000000000000000000000000000000000000000000000000000000000000013556e697420616c72656164792065786973747300000000000000000000000000')",
     "output_type": "error",
     "traceback": [
      "\u001b[0;31m---------------------------------------------------------------------------\u001b[0m",
      "\u001b[0;31mContractLogicError\u001b[0m                        Traceback (most recent call last)",
      "Cell \u001b[0;32mIn[26], line 28\u001b[0m\n\u001b[1;32m     24\u001b[0m     \u001b[38;5;28;01mreturn\u001b[39;00m receipt\n\u001b[1;32m     26\u001b[0m unit_address \u001b[38;5;241m=\u001b[39m web3\u001b[38;5;241m.\u001b[39meth\u001b[38;5;241m.\u001b[39maccount\u001b[38;5;241m.\u001b[39mfrom_key(unitpk1)\u001b[38;5;241m.\u001b[39maddress\n\u001b[0;32m---> 28\u001b[0m \u001b[43madd_unit\u001b[49m\u001b[43m(\u001b[49m\u001b[43madmin_pk\u001b[49m\u001b[43m,\u001b[49m\u001b[43m \u001b[49m\u001b[43munit_address\u001b[49m\u001b[43m)\u001b[49m\n",
      "Cell \u001b[0;32mIn[26], line 7\u001b[0m, in \u001b[0;36madd_unit\u001b[0;34m(private_key, unit_address)\u001b[0m\n\u001b[1;32m      5\u001b[0m \u001b[38;5;66;03m# 构建交易\u001b[39;00m\n\u001b[1;32m      6\u001b[0m nonce \u001b[38;5;241m=\u001b[39m web3\u001b[38;5;241m.\u001b[39meth\u001b[38;5;241m.\u001b[39mget_transaction_count(account\u001b[38;5;241m.\u001b[39maddress)\n\u001b[0;32m----> 7\u001b[0m transaction \u001b[38;5;241m=\u001b[39m \u001b[43mcontract\u001b[49m\u001b[38;5;241;43m.\u001b[39;49m\u001b[43mfunctions\u001b[49m\u001b[38;5;241;43m.\u001b[39;49m\u001b[43maddUnit\u001b[49m\u001b[43m(\u001b[49m\u001b[43munit_address\u001b[49m\u001b[43m)\u001b[49m\u001b[38;5;241;43m.\u001b[39;49m\u001b[43mbuild_transaction\u001b[49m\u001b[43m(\u001b[49m\u001b[43m{\u001b[49m\n\u001b[1;32m      8\u001b[0m \u001b[43m    \u001b[49m\u001b[38;5;124;43m'\u001b[39;49m\u001b[38;5;124;43mfrom\u001b[39;49m\u001b[38;5;124;43m'\u001b[39;49m\u001b[43m:\u001b[49m\u001b[43m \u001b[49m\u001b[43maccount\u001b[49m\u001b[38;5;241;43m.\u001b[39;49m\u001b[43maddress\u001b[49m\u001b[43m,\u001b[49m\n\u001b[1;32m      9\u001b[0m \u001b[43m    \u001b[49m\u001b[38;5;124;43m'\u001b[39;49m\u001b[38;5;124;43mnonce\u001b[39;49m\u001b[38;5;124;43m'\u001b[39;49m\u001b[43m:\u001b[49m\u001b[43m \u001b[49m\u001b[43mnonce\u001b[49m\u001b[43m,\u001b[49m\n\u001b[1;32m     10\u001b[0m \u001b[43m\u001b[49m\u001b[43m}\u001b[49m\u001b[43m)\u001b[49m\n\u001b[1;32m     11\u001b[0m \u001b[38;5;28mprint\u001b[39m(\u001b[38;5;124m\"\u001b[39m\u001b[38;5;124mtransaction: \u001b[39m\u001b[38;5;124m\"\u001b[39m, transaction)\n\u001b[1;32m     13\u001b[0m \u001b[38;5;66;03m# 签名交易\u001b[39;00m\n",
      "File \u001b[0;32m~/.local/lib/python3.10/site-packages/web3/contract/contract.py:356\u001b[0m, in \u001b[0;36mContractFunction.build_transaction\u001b[0;34m(self, transaction)\u001b[0m\n\u001b[1;32m    354\u001b[0m \u001b[38;5;28;01mdef\u001b[39;00m \u001b[38;5;21mbuild_transaction\u001b[39m(\u001b[38;5;28mself\u001b[39m, transaction: Optional[TxParams] \u001b[38;5;241m=\u001b[39m \u001b[38;5;28;01mNone\u001b[39;00m) \u001b[38;5;241m-\u001b[39m\u001b[38;5;241m>\u001b[39m TxParams:\n\u001b[1;32m    355\u001b[0m     built_transaction \u001b[38;5;241m=\u001b[39m \u001b[38;5;28mself\u001b[39m\u001b[38;5;241m.\u001b[39m_build_transaction(transaction)\n\u001b[0;32m--> 356\u001b[0m     \u001b[38;5;28;01mreturn\u001b[39;00m \u001b[43mbuild_transaction_for_function\u001b[49m\u001b[43m(\u001b[49m\n\u001b[1;32m    357\u001b[0m \u001b[43m        \u001b[49m\u001b[38;5;28;43mself\u001b[39;49m\u001b[38;5;241;43m.\u001b[39;49m\u001b[43maddress\u001b[49m\u001b[43m,\u001b[49m\n\u001b[1;32m    358\u001b[0m \u001b[43m        \u001b[49m\u001b[38;5;28;43mself\u001b[39;49m\u001b[38;5;241;43m.\u001b[39;49m\u001b[43mw3\u001b[49m\u001b[43m,\u001b[49m\n\u001b[1;32m    359\u001b[0m \u001b[43m        \u001b[49m\u001b[38;5;28;43mself\u001b[39;49m\u001b[38;5;241;43m.\u001b[39;49m\u001b[43mfunction_identifier\u001b[49m\u001b[43m,\u001b[49m\n\u001b[1;32m    360\u001b[0m \u001b[43m        \u001b[49m\u001b[43mbuilt_transaction\u001b[49m\u001b[43m,\u001b[49m\n\u001b[1;32m    361\u001b[0m \u001b[43m        \u001b[49m\u001b[38;5;28;43mself\u001b[39;49m\u001b[38;5;241;43m.\u001b[39;49m\u001b[43mcontract_abi\u001b[49m\u001b[43m,\u001b[49m\n\u001b[1;32m    362\u001b[0m \u001b[43m        \u001b[49m\u001b[38;5;28;43mself\u001b[39;49m\u001b[38;5;241;43m.\u001b[39;49m\u001b[43mabi\u001b[49m\u001b[43m,\u001b[49m\n\u001b[1;32m    363\u001b[0m \u001b[43m        \u001b[49m\u001b[38;5;241;43m*\u001b[39;49m\u001b[38;5;28;43mself\u001b[39;49m\u001b[38;5;241;43m.\u001b[39;49m\u001b[43margs\u001b[49m\u001b[43m,\u001b[49m\n\u001b[1;32m    364\u001b[0m \u001b[43m        \u001b[49m\u001b[38;5;241;43m*\u001b[39;49m\u001b[38;5;241;43m*\u001b[39;49m\u001b[38;5;28;43mself\u001b[39;49m\u001b[38;5;241;43m.\u001b[39;49m\u001b[43mkwargs\u001b[49m\u001b[43m,\u001b[49m\n\u001b[1;32m    365\u001b[0m \u001b[43m    \u001b[49m\u001b[43m)\u001b[49m\n",
      "File \u001b[0;32m~/.local/lib/python3.10/site-packages/web3/contract/utils.py:233\u001b[0m, in \u001b[0;36mbuild_transaction_for_function\u001b[0;34m(address, w3, function_name, transaction, contract_abi, fn_abi, *args, **kwargs)\u001b[0m\n\u001b[1;32m    217\u001b[0m \u001b[38;5;250m\u001b[39m\u001b[38;5;124;03m\"\"\"Builds a dictionary with the fields required to make the given transaction\u001b[39;00m\n\u001b[1;32m    218\u001b[0m \n\u001b[1;32m    219\u001b[0m \u001b[38;5;124;03mDon't call this directly, instead use :meth:`Contract.build_transaction`\u001b[39;00m\n\u001b[1;32m    220\u001b[0m \u001b[38;5;124;03mon your contract instance.\u001b[39;00m\n\u001b[1;32m    221\u001b[0m \u001b[38;5;124;03m\"\"\"\u001b[39;00m\n\u001b[1;32m    222\u001b[0m prepared_transaction \u001b[38;5;241m=\u001b[39m prepare_transaction(\n\u001b[1;32m    223\u001b[0m     address,\n\u001b[1;32m    224\u001b[0m     w3,\n\u001b[0;32m   (...)\u001b[0m\n\u001b[1;32m    230\u001b[0m     fn_kwargs\u001b[38;5;241m=\u001b[39mkwargs,\n\u001b[1;32m    231\u001b[0m )\n\u001b[0;32m--> 233\u001b[0m prepared_transaction \u001b[38;5;241m=\u001b[39m \u001b[43mfill_transaction_defaults\u001b[49m\u001b[43m(\u001b[49m\u001b[43mw3\u001b[49m\u001b[43m,\u001b[49m\u001b[43m \u001b[49m\u001b[43mprepared_transaction\u001b[49m\u001b[43m)\u001b[49m\n\u001b[1;32m    235\u001b[0m \u001b[38;5;28;01mreturn\u001b[39;00m prepared_transaction\n",
      "File \u001b[0;32m~/.local/lib/python3.10/site-packages/cytoolz/functoolz.pyx:263\u001b[0m, in \u001b[0;36mcytoolz.functoolz.curry.__call__\u001b[0;34m()\u001b[0m\n",
      "File \u001b[0;32m~/.local/lib/python3.10/site-packages/web3/_utils/transactions.py:136\u001b[0m, in \u001b[0;36mfill_transaction_defaults\u001b[0;34m(w3, transaction)\u001b[0m\n\u001b[1;32m    132\u001b[0m     \u001b[38;5;28;01mif\u001b[39;00m w3 \u001b[38;5;129;01mis\u001b[39;00m \u001b[38;5;28;01mNone\u001b[39;00m:\n\u001b[1;32m    133\u001b[0m         \u001b[38;5;28;01mraise\u001b[39;00m \u001b[38;5;167;01mValueError\u001b[39;00m(\n\u001b[1;32m    134\u001b[0m             \u001b[38;5;124mf\u001b[39m\u001b[38;5;124m\"\u001b[39m\u001b[38;5;124mYou must specify a \u001b[39m\u001b[38;5;124m'\u001b[39m\u001b[38;5;132;01m{\u001b[39;00mkey\u001b[38;5;132;01m}\u001b[39;00m\u001b[38;5;124m'\u001b[39m\u001b[38;5;124m value in the transaction\u001b[39m\u001b[38;5;124m\"\u001b[39m\n\u001b[1;32m    135\u001b[0m         )\n\u001b[0;32m--> 136\u001b[0m     default_val \u001b[38;5;241m=\u001b[39m \u001b[43mdefault_getter\u001b[49m\u001b[43m(\u001b[49m\u001b[43mw3\u001b[49m\u001b[43m,\u001b[49m\u001b[43m \u001b[49m\u001b[43mtransaction\u001b[49m\u001b[43m)\u001b[49m\n\u001b[1;32m    137\u001b[0m \u001b[38;5;28;01melse\u001b[39;00m:\n\u001b[1;32m    138\u001b[0m     default_val \u001b[38;5;241m=\u001b[39m default_getter\n",
      "File \u001b[0;32m~/.local/lib/python3.10/site-packages/web3/_utils/transactions.py:76\u001b[0m, in \u001b[0;36m<lambda>\u001b[0;34m(w3, tx)\u001b[0m\n\u001b[1;32m     39\u001b[0m TX_PARAM_LITERALS \u001b[38;5;241m=\u001b[39m Literal[\n\u001b[1;32m     40\u001b[0m     \u001b[38;5;124m\"\u001b[39m\u001b[38;5;124mtype\u001b[39m\u001b[38;5;124m\"\u001b[39m,\n\u001b[1;32m     41\u001b[0m     \u001b[38;5;124m\"\u001b[39m\u001b[38;5;124mfrom\u001b[39m\u001b[38;5;124m\"\u001b[39m,\n\u001b[0;32m   (...)\u001b[0m\n\u001b[1;32m     53\u001b[0m     \u001b[38;5;124m\"\u001b[39m\u001b[38;5;124mblobVersionedHashes\u001b[39m\u001b[38;5;124m\"\u001b[39m,\n\u001b[1;32m     54\u001b[0m ]\n\u001b[1;32m     56\u001b[0m VALID_TRANSACTION_PARAMS: List[TX_PARAM_LITERALS] \u001b[38;5;241m=\u001b[39m [\n\u001b[1;32m     57\u001b[0m     \u001b[38;5;124m\"\u001b[39m\u001b[38;5;124mtype\u001b[39m\u001b[38;5;124m\"\u001b[39m,\n\u001b[1;32m     58\u001b[0m     \u001b[38;5;124m\"\u001b[39m\u001b[38;5;124mfrom\u001b[39m\u001b[38;5;124m\"\u001b[39m,\n\u001b[0;32m   (...)\u001b[0m\n\u001b[1;32m     70\u001b[0m     \u001b[38;5;124m\"\u001b[39m\u001b[38;5;124mblobVersionedHashes\u001b[39m\u001b[38;5;124m\"\u001b[39m,\n\u001b[1;32m     71\u001b[0m ]\n\u001b[1;32m     73\u001b[0m TRANSACTION_DEFAULTS \u001b[38;5;241m=\u001b[39m {\n\u001b[1;32m     74\u001b[0m     \u001b[38;5;124m\"\u001b[39m\u001b[38;5;124mvalue\u001b[39m\u001b[38;5;124m\"\u001b[39m: \u001b[38;5;241m0\u001b[39m,\n\u001b[1;32m     75\u001b[0m     \u001b[38;5;124m\"\u001b[39m\u001b[38;5;124mdata\u001b[39m\u001b[38;5;124m\"\u001b[39m: \u001b[38;5;124mb\u001b[39m\u001b[38;5;124m\"\u001b[39m\u001b[38;5;124m\"\u001b[39m,\n\u001b[0;32m---> 76\u001b[0m     \u001b[38;5;124m\"\u001b[39m\u001b[38;5;124mgas\u001b[39m\u001b[38;5;124m\"\u001b[39m: \u001b[38;5;28;01mlambda\u001b[39;00m w3, tx: \u001b[43mw3\u001b[49m\u001b[38;5;241;43m.\u001b[39;49m\u001b[43meth\u001b[49m\u001b[38;5;241;43m.\u001b[39;49m\u001b[43mestimate_gas\u001b[49m\u001b[43m(\u001b[49m\u001b[43mtx\u001b[49m\u001b[43m)\u001b[49m,\n\u001b[1;32m     77\u001b[0m     \u001b[38;5;124m\"\u001b[39m\u001b[38;5;124mgasPrice\u001b[39m\u001b[38;5;124m\"\u001b[39m: \u001b[38;5;28;01mlambda\u001b[39;00m w3, tx: w3\u001b[38;5;241m.\u001b[39meth\u001b[38;5;241m.\u001b[39mgenerate_gas_price(tx),\n\u001b[1;32m     78\u001b[0m     \u001b[38;5;124m\"\u001b[39m\u001b[38;5;124mmaxFeePerGas\u001b[39m\u001b[38;5;124m\"\u001b[39m: (\n\u001b[1;32m     79\u001b[0m         \u001b[38;5;28;01mlambda\u001b[39;00m w3, tx: w3\u001b[38;5;241m.\u001b[39meth\u001b[38;5;241m.\u001b[39mmax_priority_fee\n\u001b[1;32m     80\u001b[0m         \u001b[38;5;241m+\u001b[39m (\u001b[38;5;241m2\u001b[39m \u001b[38;5;241m*\u001b[39m w3\u001b[38;5;241m.\u001b[39meth\u001b[38;5;241m.\u001b[39mget_block(\u001b[38;5;124m\"\u001b[39m\u001b[38;5;124mlatest\u001b[39m\u001b[38;5;124m\"\u001b[39m)[\u001b[38;5;124m\"\u001b[39m\u001b[38;5;124mbaseFeePerGas\u001b[39m\u001b[38;5;124m\"\u001b[39m])\n\u001b[1;32m     81\u001b[0m     ),\n\u001b[1;32m     82\u001b[0m     \u001b[38;5;124m\"\u001b[39m\u001b[38;5;124mmaxPriorityFeePerGas\u001b[39m\u001b[38;5;124m\"\u001b[39m: \u001b[38;5;28;01mlambda\u001b[39;00m w3, tx: w3\u001b[38;5;241m.\u001b[39meth\u001b[38;5;241m.\u001b[39mmax_priority_fee,\n\u001b[1;32m     83\u001b[0m     \u001b[38;5;124m\"\u001b[39m\u001b[38;5;124mchainId\u001b[39m\u001b[38;5;124m\"\u001b[39m: \u001b[38;5;28;01mlambda\u001b[39;00m w3, tx: w3\u001b[38;5;241m.\u001b[39meth\u001b[38;5;241m.\u001b[39mchain_id,\n\u001b[1;32m     84\u001b[0m }\n\u001b[1;32m     86\u001b[0m \u001b[38;5;28;01mif\u001b[39;00m TYPE_CHECKING:\n\u001b[1;32m     87\u001b[0m     \u001b[38;5;28;01mfrom\u001b[39;00m \u001b[38;5;21;01mweb3\u001b[39;00m \u001b[38;5;28;01mimport\u001b[39;00m (  \u001b[38;5;66;03m# noqa: F401\u001b[39;00m\n\u001b[1;32m     88\u001b[0m         AsyncWeb3,\n\u001b[1;32m     89\u001b[0m         Web3,\n\u001b[1;32m     90\u001b[0m     )\n",
      "File \u001b[0;32m~/.local/lib/python3.10/site-packages/web3/eth/eth.py:316\u001b[0m, in \u001b[0;36mEth.estimate_gas\u001b[0;34m(self, transaction, block_identifier, state_override)\u001b[0m\n\u001b[1;32m    310\u001b[0m \u001b[38;5;28;01mdef\u001b[39;00m \u001b[38;5;21mestimate_gas\u001b[39m(\n\u001b[1;32m    311\u001b[0m     \u001b[38;5;28mself\u001b[39m,\n\u001b[1;32m    312\u001b[0m     transaction: TxParams,\n\u001b[1;32m    313\u001b[0m     block_identifier: Optional[BlockIdentifier] \u001b[38;5;241m=\u001b[39m \u001b[38;5;28;01mNone\u001b[39;00m,\n\u001b[1;32m    314\u001b[0m     state_override: Optional[CallOverride] \u001b[38;5;241m=\u001b[39m \u001b[38;5;28;01mNone\u001b[39;00m,\n\u001b[1;32m    315\u001b[0m ) \u001b[38;5;241m-\u001b[39m\u001b[38;5;241m>\u001b[39m \u001b[38;5;28mint\u001b[39m:\n\u001b[0;32m--> 316\u001b[0m     \u001b[38;5;28;01mreturn\u001b[39;00m \u001b[38;5;28;43mself\u001b[39;49m\u001b[38;5;241;43m.\u001b[39;49m\u001b[43m_estimate_gas\u001b[49m\u001b[43m(\u001b[49m\u001b[43mtransaction\u001b[49m\u001b[43m,\u001b[49m\u001b[43m \u001b[49m\u001b[43mblock_identifier\u001b[49m\u001b[43m,\u001b[49m\u001b[43m \u001b[49m\u001b[43mstate_override\u001b[49m\u001b[43m)\u001b[49m\n",
      "File \u001b[0;32m~/.local/lib/python3.10/site-packages/web3/module.py:75\u001b[0m, in \u001b[0;36mretrieve_blocking_method_call_fn.<locals>.caller\u001b[0;34m(*args, **kwargs)\u001b[0m\n\u001b[1;32m     68\u001b[0m     \u001b[38;5;28;01mreturn\u001b[39;00m LogFilter(eth_module\u001b[38;5;241m=\u001b[39mmodule, filter_id\u001b[38;5;241m=\u001b[39merr\u001b[38;5;241m.\u001b[39mfilter_id)\n\u001b[1;32m     70\u001b[0m (\n\u001b[1;32m     71\u001b[0m     result_formatters,\n\u001b[1;32m     72\u001b[0m     error_formatters,\n\u001b[1;32m     73\u001b[0m     null_result_formatters,\n\u001b[1;32m     74\u001b[0m ) \u001b[38;5;241m=\u001b[39m response_formatters\n\u001b[0;32m---> 75\u001b[0m result \u001b[38;5;241m=\u001b[39m \u001b[43mw3\u001b[49m\u001b[38;5;241;43m.\u001b[39;49m\u001b[43mmanager\u001b[49m\u001b[38;5;241;43m.\u001b[39;49m\u001b[43mrequest_blocking\u001b[49m\u001b[43m(\u001b[49m\n\u001b[1;32m     76\u001b[0m \u001b[43m    \u001b[49m\u001b[43mmethod_str\u001b[49m\u001b[43m,\u001b[49m\u001b[43m \u001b[49m\u001b[43mparams\u001b[49m\u001b[43m,\u001b[49m\u001b[43m \u001b[49m\u001b[43merror_formatters\u001b[49m\u001b[43m,\u001b[49m\u001b[43m \u001b[49m\u001b[43mnull_result_formatters\u001b[49m\n\u001b[1;32m     77\u001b[0m \u001b[43m\u001b[49m\u001b[43m)\u001b[49m\n\u001b[1;32m     78\u001b[0m \u001b[38;5;28;01mreturn\u001b[39;00m apply_result_formatters(result_formatters, result)\n",
      "File \u001b[0;32m~/.local/lib/python3.10/site-packages/web3/manager.py:329\u001b[0m, in \u001b[0;36mRequestManager.request_blocking\u001b[0;34m(self, method, params, error_formatters, null_result_formatters)\u001b[0m\n\u001b[1;32m    325\u001b[0m \u001b[38;5;250m\u001b[39m\u001b[38;5;124;03m\"\"\"\u001b[39;00m\n\u001b[1;32m    326\u001b[0m \u001b[38;5;124;03mMake a synchronous request using the provider\u001b[39;00m\n\u001b[1;32m    327\u001b[0m \u001b[38;5;124;03m\"\"\"\u001b[39;00m\n\u001b[1;32m    328\u001b[0m response \u001b[38;5;241m=\u001b[39m \u001b[38;5;28mself\u001b[39m\u001b[38;5;241m.\u001b[39m_make_request(method, params)\n\u001b[0;32m--> 329\u001b[0m \u001b[38;5;28;01mreturn\u001b[39;00m \u001b[38;5;28;43mself\u001b[39;49m\u001b[38;5;241;43m.\u001b[39;49m\u001b[43mformatted_response\u001b[49m\u001b[43m(\u001b[49m\n\u001b[1;32m    330\u001b[0m \u001b[43m    \u001b[49m\u001b[43mresponse\u001b[49m\u001b[43m,\u001b[49m\u001b[43m \u001b[49m\u001b[43mparams\u001b[49m\u001b[43m,\u001b[49m\u001b[43m \u001b[49m\u001b[43merror_formatters\u001b[49m\u001b[43m,\u001b[49m\u001b[43m \u001b[49m\u001b[43mnull_result_formatters\u001b[49m\n\u001b[1;32m    331\u001b[0m \u001b[43m\u001b[49m\u001b[43m)\u001b[49m\n",
      "File \u001b[0;32m~/.local/lib/python3.10/site-packages/web3/manager.py:290\u001b[0m, in \u001b[0;36mRequestManager.formatted_response\u001b[0;34m(response, params, error_formatters, null_result_formatters)\u001b[0m\n\u001b[1;32m    285\u001b[0m     \u001b[38;5;28;01mif\u001b[39;00m \u001b[38;5;129;01mnot\u001b[39;00m \u001b[38;5;28misinstance\u001b[39m(error\u001b[38;5;241m.\u001b[39mget(\u001b[38;5;124m\"\u001b[39m\u001b[38;5;124mmessage\u001b[39m\u001b[38;5;124m\"\u001b[39m), \u001b[38;5;28mstr\u001b[39m):\n\u001b[1;32m    286\u001b[0m         _raise_bad_response_format(\n\u001b[1;32m    287\u001b[0m             response, \u001b[38;5;124m\"\u001b[39m\u001b[38;5;124merror[\u001b[39m\u001b[38;5;124m'\u001b[39m\u001b[38;5;124mmessage\u001b[39m\u001b[38;5;124m'\u001b[39m\u001b[38;5;124m] must be a string\u001b[39m\u001b[38;5;124m\"\u001b[39m\n\u001b[1;32m    288\u001b[0m         )\n\u001b[0;32m--> 290\u001b[0m     \u001b[43mapply_error_formatters\u001b[49m\u001b[43m(\u001b[49m\u001b[43merror_formatters\u001b[49m\u001b[43m,\u001b[49m\u001b[43m \u001b[49m\u001b[43mresponse\u001b[49m\u001b[43m)\u001b[49m\n\u001b[1;32m    292\u001b[0m     \u001b[38;5;28;01mraise\u001b[39;00m \u001b[38;5;167;01mValueError\u001b[39;00m(error)\n\u001b[1;32m    294\u001b[0m \u001b[38;5;66;03m# Format and validate results\u001b[39;00m\n",
      "File \u001b[0;32m~/.local/lib/python3.10/site-packages/web3/manager.py:103\u001b[0m, in \u001b[0;36mapply_error_formatters\u001b[0;34m(error_formatters, response)\u001b[0m\n\u001b[1;32m     98\u001b[0m \u001b[38;5;28;01mdef\u001b[39;00m \u001b[38;5;21mapply_error_formatters\u001b[39m(\n\u001b[1;32m     99\u001b[0m     error_formatters: Callable[\u001b[38;5;241m.\u001b[39m\u001b[38;5;241m.\u001b[39m\u001b[38;5;241m.\u001b[39m, Any],\n\u001b[1;32m    100\u001b[0m     response: RPCResponse,\n\u001b[1;32m    101\u001b[0m ) \u001b[38;5;241m-\u001b[39m\u001b[38;5;241m>\u001b[39m RPCResponse:\n\u001b[1;32m    102\u001b[0m     \u001b[38;5;28;01mif\u001b[39;00m error_formatters:\n\u001b[0;32m--> 103\u001b[0m         formatted_resp \u001b[38;5;241m=\u001b[39m \u001b[43mpipe\u001b[49m\u001b[43m(\u001b[49m\u001b[43mresponse\u001b[49m\u001b[43m,\u001b[49m\u001b[43m \u001b[49m\u001b[43merror_formatters\u001b[49m\u001b[43m)\u001b[49m\n\u001b[1;32m    104\u001b[0m         \u001b[38;5;28;01mreturn\u001b[39;00m formatted_resp\n\u001b[1;32m    105\u001b[0m     \u001b[38;5;28;01melse\u001b[39;00m:\n",
      "File \u001b[0;32m~/.local/lib/python3.10/site-packages/cytoolz/functoolz.pyx:680\u001b[0m, in \u001b[0;36mcytoolz.functoolz.pipe\u001b[0;34m()\u001b[0m\n",
      "File \u001b[0;32m~/.local/lib/python3.10/site-packages/cytoolz/functoolz.pyx:655\u001b[0m, in \u001b[0;36mcytoolz.functoolz.c_pipe\u001b[0;34m()\u001b[0m\n",
      "File \u001b[0;32m~/.local/lib/python3.10/site-packages/web3/_utils/error_formatters_utils.py:162\u001b[0m, in \u001b[0;36mraise_contract_logic_error_on_revert\u001b[0;34m(response)\u001b[0m\n\u001b[1;32m    159\u001b[0m \u001b[38;5;28;01mif\u001b[39;00m message_present:\n\u001b[1;32m    160\u001b[0m     \u001b[38;5;66;03m# Geth Revert with error message and code 3 case:\u001b[39;00m\n\u001b[1;32m    161\u001b[0m     \u001b[38;5;28;01mif\u001b[39;00m error\u001b[38;5;241m.\u001b[39mget(\u001b[38;5;124m\"\u001b[39m\u001b[38;5;124mcode\u001b[39m\u001b[38;5;124m\"\u001b[39m) \u001b[38;5;241m==\u001b[39m \u001b[38;5;241m3\u001b[39m:\n\u001b[0;32m--> 162\u001b[0m         \u001b[38;5;28;01mraise\u001b[39;00m ContractLogicError(message, data\u001b[38;5;241m=\u001b[39mdata)\n\u001b[1;32m    163\u001b[0m     \u001b[38;5;66;03m# Geth Revert without error message case:\u001b[39;00m\n\u001b[1;32m    164\u001b[0m     \u001b[38;5;28;01melif\u001b[39;00m \u001b[38;5;124m\"\u001b[39m\u001b[38;5;124mexecution reverted\u001b[39m\u001b[38;5;124m\"\u001b[39m \u001b[38;5;129;01min\u001b[39;00m message:\n",
      "\u001b[0;31mContractLogicError\u001b[0m: ('execution reverted: revert: Unit already exists', '0x08c379a000000000000000000000000000000000000000000000000000000000000000200000000000000000000000000000000000000000000000000000000000000013556e697420616c72656164792065786973747300000000000000000000000000')"
     ]
    }
   ],
   "source": [
    "def add_unit(private_key, unit_address):\n",
    "    # 获取账户\n",
    "    account =  web3.eth.account.from_key(private_key)\n",
    "\n",
    "    # 构建交易\n",
    "    nonce = web3.eth.get_transaction_count(account.address)\n",
    "    transaction = contract.functions.addUnit(unit_address).build_transaction({\n",
    "        'from': account.address,\n",
    "        'nonce': nonce,\n",
    "    })\n",
    "    print(\"transaction: \", transaction)\n",
    "\n",
    "    # 签名交易\n",
    "    signed_txn = web3.eth.account.sign_transaction(transaction, private_key)\n",
    "    print(\"signed_txn: \", signed_txn)\n",
    "\n",
    "    # 发送交易\n",
    "    tx_hash = web3.eth.send_raw_transaction(signed_txn.rawTransaction)\n",
    "    print(\"tx_hash: \", tx_hash)\n",
    "\n",
    "    # 等待交易完成\n",
    "    receipt = web3.eth.wait_for_transaction_receipt(tx_hash)\n",
    "    print(\"receipt: \", receipt)\n",
    "    return receipt\n",
    "\n",
    "unit_address = web3.eth.account.from_key(unit_pk1).address\n",
    "\n",
    "add_unit(admin_pk, unit_address)"
   ]
  },
  {
   "cell_type": "code",
   "execution_count": 37,
   "metadata": {},
   "outputs": [
    {
     "name": "stdout",
     "output_type": "stream",
     "text": [
      "Account:  <eth_account.signers.local.LocalAccount object at 0x7f301bca4640>\n",
      "Event:  AttributeDict({'args': AttributeDict({'unitAddress': '0x70997970C51812dc3A010C7d01b50e0d17dc79C8'}), 'event': 'UnitAdded', 'logIndex': 1, 'transactionIndex': 0, 'transactionHash': HexBytes('0x4d2387f1bd04294170b53fcbaa26c8d2bdaf9a2e0e9bfd04ae1a8870c301f664'), 'address': '0x5FC8d32690cc91D4c39d9d3abcBD16989F875707', 'blockHash': HexBytes('0x69f2cbb1345c6524398de41b2b395f4afcc255f3f40169891a502caa5ab16d49'), 'blockNumber': 4})\n",
      "unit address: 0x70997970C51812dc3A010C7d01b50e0d17dc79C8\n"
     ]
    }
   ],
   "source": [
    "def get_units(private_key):\n",
    "    # 获取账户\n",
    "    account =  web3.eth.account.from_key(private_key)\n",
    "    print(\"Account: \", account)\n",
    "\n",
    "    # 获取最新区块\n",
    "    latest_block = web3.eth.block_number\n",
    "\n",
    "    # 定义事件过滤器，假设事件名为TaxCalculated\n",
    "    event_filter = contract.events.UnitAdded.create_filter(\n",
    "        fromBlock=0,  # 可调整为特定区块范围\n",
    "        toBlock=latest_block\n",
    "    )\n",
    "\n",
    "    # 获取事件日志\n",
    "    events = event_filter.get_all_entries()\n",
    "\n",
    "    for event in events:\n",
    "        print(\"Event: \", event)\n",
    "        print(\"unit address:\", event['args']['unitAddress'])\n",
    "\n",
    "get_units(admin_pk)"
   ]
  },
  {
   "cell_type": "code",
   "execution_count": 53,
   "metadata": {},
   "outputs": [
    {
     "name": "stdout",
     "output_type": "stream",
     "text": [
      "transaction:  {'value': 0, 'gas': 120082, 'maxFeePerGas': 2100625808, 'maxPriorityFeePerGas': 1000000000, 'chainId': 31337, 'from': '0x70997970C51812dc3A010C7d01b50e0d17dc79C8', 'nonce': 2, 'to': '0x5FC8d32690cc91D4c39d9d3abcBD16989F875707', 'data': '0xe7fd9a1300000000000000000000000015d34aaf54267db7d7c367839aaf71a00a2c6a650000000000000000000000000000000000000000000000000000000000002710'}\n",
      "signed_txn:  SignedTransaction(rawTransaction=HexBytes('0x02f8b2827a6902843b9aca00847d3501908301d512945fc8d32690cc91d4c39d9d3abcbd16989f87570780b844e7fd9a1300000000000000000000000015d34aaf54267db7d7c367839aaf71a00a2c6a650000000000000000000000000000000000000000000000000000000000002710c080a0e9b7e5bf5017b5fe240d47f6105d8a24a9e9e68c2877d095c288b72b174a95b8a02c18895a7c96dea0799895c2d01205c38fe738c99ee18caae13d41c6be405544'), hash=HexBytes('0xbe308ce5d113c5e7581e7b07f2d584171391b5a1a62561057b39fa96ea664bfa'), r=105713812390453478723920809151516819459588331376510160473940984239727684785592, s=19945117645983900998496987911795524059291172150600255761546990076463750862148, v=0)\n",
      "tx_hash:  b'\\xbe0\\x8c\\xe5\\xd1\\x13\\xc5\\xe7X\\x1e{\\x07\\xf2\\xd5\\x84\\x17\\x13\\x91\\xb5\\xa1\\xa6%a\\x05{9\\xfa\\x96\\xeafK\\xfa'\n",
      "receipt:  AttributeDict({'type': 2, 'status': 1, 'cumulativeGasUsed': 120082, 'logs': [AttributeDict({'address': '0x5FC8d32690cc91D4c39d9d3abcBD16989F875707', 'topics': [HexBytes('0x9f88d7103a93179feb693cad5e63996f1d89a8dec3a6a6eabbfe6bfcaa268ba7'), HexBytes('0x00000000000000000000000070997970c51812dc3a010c7d01b50e0d17dc79c8'), HexBytes('0x00000000000000000000000015d34aaf54267db7d7c367839aaf71a00a2c6a65')], 'data': HexBytes('0x0000000000000000000000000000000000000000000000000000000000002710'), 'blockHash': HexBytes('0xe3cf314d8ecabd8523d4c3ad6f8a5998a7b9228f9cb41ab9efe4bf3091224e2a'), 'blockNumber': 7, 'blockTimestamp': '0x664f47e2', 'transactionHash': HexBytes('0xbe308ce5d113c5e7581e7b07f2d584171391b5a1a62561057b39fa96ea664bfa'), 'transactionIndex': 0, 'logIndex': 0, 'removed': False})], 'logsBloom': HexBytes('0x00000000040000000002000000000000000000000000000000000000000000000000000000000000000000000000000000000000000000000010000000000000000000000000000000000000000000000000000240000000000000010000000000000800000000000000000000000000000000000000000000000000000000000000000000000000000000000000000000000000000000004000000100000000000000000000000000000000000000000000000000000000000000000000000000000000000000000000000000000000000000000000000000000001000004000000000000000000000000000000000001000000000000000000000000000000'), 'transactionHash': HexBytes('0xbe308ce5d113c5e7581e7b07f2d584171391b5a1a62561057b39fa96ea664bfa'), 'transactionIndex': 0, 'blockHash': HexBytes('0xe3cf314d8ecabd8523d4c3ad6f8a5998a7b9228f9cb41ab9efe4bf3091224e2a'), 'blockNumber': 7, 'gasUsed': 120082, 'effectiveGasPrice': 1481877505, 'from': '0x70997970C51812dc3A010C7d01b50e0d17dc79C8', 'to': '0x5FC8d32690cc91D4c39d9d3abcBD16989F875707', 'contractAddress': None, 'root': '0x7f3a5bbd67b5f212baa486f720a16e3afd1bac7a49f0b2fc299aa756577e8f5a'})\n"
     ]
    }
   ],
   "source": [
    "def add_employee(uni_pk, employee_pk, month_salary):\n",
    "\n",
    "    account =  web3.eth.account.from_key(uni_pk)\n",
    "\n",
    "    employee_address = web3.eth.account.from_key(employee_pk).address\n",
    "\n",
    "    # 构建交易\n",
    "    nonce = web3.eth.get_transaction_count(account.address)\n",
    "    transaction = contract.functions.addEmployee(\n",
    "        employee_address, month_salary).build_transaction({\n",
    "        'from': account.address,\n",
    "        'nonce': nonce,\n",
    "    })\n",
    "    print(\"transaction: \", transaction)\n",
    "\n",
    "    submit_txn(uni_pk, transaction)\n",
    "\n",
    "\n",
    "add_employee(unit_pk1, employee_pk2, 10000)"
   ]
  },
  {
   "cell_type": "code",
   "execution_count": 58,
   "metadata": {},
   "outputs": [
    {
     "name": "stdout",
     "output_type": "stream",
     "text": [
      "Account:  <eth_account.signers.local.LocalAccount object at 0x7f301b755a50>\n",
      "Event:  AttributeDict({'args': AttributeDict({'unitAddress': '0x70997970C51812dc3A010C7d01b50e0d17dc79C8', 'employeeAddress': '0x90F79bf6EB2c4f870365E785982E1f101E93b906', 'monthlySalary': 100}), 'event': 'EmployeeAdded', 'logIndex': 0, 'transactionIndex': 0, 'transactionHash': HexBytes('0x15c960ff346ef79b6936a3ea35cf901adc190c3b58c4506e4b68b6587add79b1'), 'address': '0x5FC8d32690cc91D4c39d9d3abcBD16989F875707', 'blockHash': HexBytes('0x14491400f459d06fc44c172011f8927e0ad761b4b841a9341ce4fe2ddd54d10b'), 'blockNumber': 5})\n",
      "unit address: 0x70997970C51812dc3A010C7d01b50e0d17dc79C8\n",
      "employee address: 0x90F79bf6EB2c4f870365E785982E1f101E93b906\n",
      "\n",
      "Event:  AttributeDict({'args': AttributeDict({'unitAddress': '0x70997970C51812dc3A010C7d01b50e0d17dc79C8', 'employeeAddress': '0x15d34AAf54267DB7D7c367839AAf71A00a2C6A65', 'monthlySalary': 10000}), 'event': 'EmployeeAdded', 'logIndex': 0, 'transactionIndex': 0, 'transactionHash': HexBytes('0xbe308ce5d113c5e7581e7b07f2d584171391b5a1a62561057b39fa96ea664bfa'), 'address': '0x5FC8d32690cc91D4c39d9d3abcBD16989F875707', 'blockHash': HexBytes('0xe3cf314d8ecabd8523d4c3ad6f8a5998a7b9228f9cb41ab9efe4bf3091224e2a'), 'blockNumber': 7})\n",
      "unit address: 0x70997970C51812dc3A010C7d01b50e0d17dc79C8\n",
      "employee address: 0x15d34AAf54267DB7D7c367839AAf71A00a2C6A65\n",
      "\n"
     ]
    }
   ],
   "source": [
    "def get_employee(private_key):\n",
    "    # 获取账户\n",
    "    account =  web3.eth.account.from_key(private_key)\n",
    "    print(\"Account: \", account)\n",
    "\n",
    "    # 获取最新区块\n",
    "    latest_block = web3.eth.block_number\n",
    "\n",
    "    # 定义事件过滤器，假设事件名为TaxCalculated\n",
    "    event_filter = contract.events.EmployeeAdded.create_filter(\n",
    "        fromBlock=0,  # 可调整为特定区块范围\n",
    "        toBlock=latest_block,\n",
    "        argument_filters={'unitAddress': account.address}\n",
    "    )\n",
    "\n",
    "    # 获取事件日志\n",
    "    events = event_filter.get_all_entries()\n",
    "\n",
    "    for event in events:\n",
    "        print(\"Event: \", event)\n",
    "        print(\"unit address:\", event['args']['unitAddress'])\n",
    "        print(\"employee address:\", event['args']['employeeAddress'])\n",
    "        print()\n",
    "\n",
    "get_employee(unit_pk1)"
   ]
  },
  {
   "cell_type": "code",
   "execution_count": 59,
   "metadata": {},
   "outputs": [
    {
     "name": "stdout",
     "output_type": "stream",
     "text": [
      "transaction:  {'value': 0, 'gas': 195194, 'maxFeePerGas': 1963755010, 'maxPriorityFeePerGas': 1000000000, 'chainId': 31337, 'from': '0x70997970C51812dc3A010C7d01b50e0d17dc79C8', 'nonce': 3, 'to': '0x5FC8d32690cc91D4c39d9d3abcBD16989F875707', 'data': '0xdfab5dc3'}\n",
      "signed_txn:  SignedTransaction(rawTransaction=HexBytes('0x02f871827a6903843b9aca0084750c86028302fa7a945fc8d32690cc91d4c39d9d3abcbd16989f8757078084dfab5dc3c080a0c2dff6f5cc53d299279cd78961370de5fd1f240dafb98b3722d89c066c1a8950a06d9d94526026a05bfe3f4259cb2c5a3aff0973b53e933945da019a09bbee9501'), hash=HexBytes('0x72bd646bbef1f20ef17c8763fdce8bec9155f47d11b4e2aefdf64a2038681704'), r=88144403976905693118827661767647406331770101072757354474967925511594524182864, s=49580519164047064363243416317978885738451234189378757672115798021194023605505, v=0)\n",
      "tx_hash:  b'r\\xbddk\\xbe\\xf1\\xf2\\x0e\\xf1|\\x87c\\xfd\\xce\\x8b\\xec\\x91U\\xf4}\\x11\\xb4\\xe2\\xae\\xfd\\xf6J 8h\\x17\\x04'\n",
      "receipt:  AttributeDict({'type': 2, 'status': 1, 'cumulativeGasUsed': 195194, 'logs': [AttributeDict({'address': '0x23dB4a08f2272df049a4932a4Cc3A6Dc1002B33E', 'topics': [HexBytes('0xddf252ad1be2c89b69c2b068fc378daa952ba7f163c4a11628f55a4df523b3ef'), HexBytes('0x0000000000000000000000000000000000000000000000000000000000000000'), HexBytes('0x00000000000000000000000070997970c51812dc3a010c7d01b50e0d17dc79c8')], 'data': HexBytes('0x0000000000000000000000000000000000000000000000000000000000000000'), 'blockHash': HexBytes('0xf727c35c2103b51cf88bdb16e4a947863e4f5a0b42211c97dcaa2535f571c6b1'), 'blockNumber': 8, 'blockTimestamp': '0x664f4856', 'transactionHash': HexBytes('0x72bd646bbef1f20ef17c8763fdce8bec9155f47d11b4e2aefdf64a2038681704'), 'transactionIndex': 0, 'logIndex': 0, 'removed': False}), AttributeDict({'address': '0x5FC8d32690cc91D4c39d9d3abcBD16989F875707', 'topics': [HexBytes('0x47c4de62e8d4c3f6f5d4994d87c0dacde1d00f45f9c7c4d97263a56e96c02d41'), HexBytes('0x00000000000000000000000090f79bf6eb2c4f870365e785982e1f101e93b906')], 'data': HexBytes('0x00000000000000000000000000000000000000000000000000000000000000000000000000000000000000000000000000000000000000000000000000000064'), 'blockHash': HexBytes('0xf727c35c2103b51cf88bdb16e4a947863e4f5a0b42211c97dcaa2535f571c6b1'), 'blockNumber': 8, 'blockTimestamp': '0x664f4856', 'transactionHash': HexBytes('0x72bd646bbef1f20ef17c8763fdce8bec9155f47d11b4e2aefdf64a2038681704'), 'transactionIndex': 0, 'logIndex': 1, 'removed': False}), AttributeDict({'address': '0x23dB4a08f2272df049a4932a4Cc3A6Dc1002B33E', 'topics': [HexBytes('0xddf252ad1be2c89b69c2b068fc378daa952ba7f163c4a11628f55a4df523b3ef'), HexBytes('0x0000000000000000000000000000000000000000000000000000000000000000'), HexBytes('0x00000000000000000000000070997970c51812dc3a010c7d01b50e0d17dc79c8')], 'data': HexBytes('0x00000000000000000000000000000000000000000000000000000000000002e9'), 'blockHash': HexBytes('0xf727c35c2103b51cf88bdb16e4a947863e4f5a0b42211c97dcaa2535f571c6b1'), 'blockNumber': 8, 'blockTimestamp': '0x664f4856', 'transactionHash': HexBytes('0x72bd646bbef1f20ef17c8763fdce8bec9155f47d11b4e2aefdf64a2038681704'), 'transactionIndex': 0, 'logIndex': 2, 'removed': False}), AttributeDict({'address': '0x5FC8d32690cc91D4c39d9d3abcBD16989F875707', 'topics': [HexBytes('0x47c4de62e8d4c3f6f5d4994d87c0dacde1d00f45f9c7c4d97263a56e96c02d41'), HexBytes('0x00000000000000000000000015d34aaf54267db7d7c367839aaf71a00a2c6a65')], 'data': HexBytes('0x00000000000000000000000000000000000000000000000000000000000002e90000000000000000000000000000000000000000000000000000000000002427'), 'blockHash': HexBytes('0xf727c35c2103b51cf88bdb16e4a947863e4f5a0b42211c97dcaa2535f571c6b1'), 'blockNumber': 8, 'blockTimestamp': '0x664f4856', 'transactionHash': HexBytes('0x72bd646bbef1f20ef17c8763fdce8bec9155f47d11b4e2aefdf64a2038681704'), 'transactionIndex': 0, 'logIndex': 3, 'removed': False}), AttributeDict({'address': '0x5FC8d32690cc91D4c39d9d3abcBD16989F875707', 'topics': [HexBytes('0x1697c0a29a303281897a66f1b887a0a75e5ee9d3c4d394abd701474dfd425322'), HexBytes('0x00000000000000000000000070997970c51812dc3a010c7d01b50e0d17dc79c8')], 'data': HexBytes('0x00000000000000000000000000000000000000000000000000000000000002e9'), 'blockHash': HexBytes('0xf727c35c2103b51cf88bdb16e4a947863e4f5a0b42211c97dcaa2535f571c6b1'), 'blockNumber': 8, 'blockTimestamp': '0x664f4856', 'transactionHash': HexBytes('0x72bd646bbef1f20ef17c8763fdce8bec9155f47d11b4e2aefdf64a2038681704'), 'transactionIndex': 0, 'logIndex': 4, 'removed': False})], 'logsBloom': HexBytes('0x00000000040000000002000000000000000000000000000000000000080000020000000000000000000000000000000000000000000000000000000000000002000000000000000000000008000000000000000240000000000000000100000000000800020000000000000000000800000000000000000000000010000000000000000000000010000000000000000000000000100000000400000100000000000000000000000000000000000000000000000000000000000000000000000000000002000000000000000000000004400000000000000000000003000024000000000000000000000010000000000001000000040000000000000000000000'), 'transactionHash': HexBytes('0x72bd646bbef1f20ef17c8763fdce8bec9155f47d11b4e2aefdf64a2038681704'), 'transactionIndex': 0, 'blockHash': HexBytes('0xf727c35c2103b51cf88bdb16e4a947863e4f5a0b42211c97dcaa2535f571c6b1'), 'blockNumber': 8, 'gasUsed': 195194, 'effectiveGasPrice': 1422125024, 'from': '0x70997970C51812dc3A010C7d01b50e0d17dc79C8', 'to': '0x5FC8d32690cc91D4c39d9d3abcBD16989F875707', 'contractAddress': None, 'root': '0x1d2c04655a7b5618f5dd3d26f25cc29a135f61433235fd7215f14d222c645cfd'})\n"
     ]
    }
   ],
   "source": [
    "def settleTaxes(private_key):\n",
    "\n",
    "    account =  web3.eth.account.from_key(private_key)\n",
    "\n",
    "    # 构建交易\n",
    "    nonce = web3.eth.get_transaction_count(account.address)\n",
    "    transaction = contract.functions.settleTaxes().build_transaction({\n",
    "        'from': account.address,\n",
    "        'nonce': nonce,\n",
    "    })\n",
    "    print(\"transaction: \", transaction)\n",
    "\n",
    "    submit_txn(private_key, transaction)\n",
    "\n",
    "\n",
    "settleTaxes(unit_pk1)"
   ]
  },
  {
   "cell_type": "code",
   "execution_count": 61,
   "metadata": {},
   "outputs": [
    {
     "name": "stdout",
     "output_type": "stream",
     "text": [
      "Account:  <eth_account.signers.local.LocalAccount object at 0x7f301b487fd0>\n",
      "Event:  AttributeDict({'args': AttributeDict({'unitAddress': '0x70997970C51812dc3A010C7d01b50e0d17dc79C8', 'totalTaxDue': 0}), 'event': 'TaxSettlement', 'logIndex': 2, 'transactionIndex': 0, 'transactionHash': HexBytes('0x8775b878dfb19b3b6c38aa0ad39984bef80682fc325f77d8b90bbaabdddcfc88'), 'address': '0x5FC8d32690cc91D4c39d9d3abcBD16989F875707', 'blockHash': HexBytes('0xb67d6e7c8e48adb6b2b3fc25aa19c75ba1042fff5e28b6ff1a264b832733d3f1'), 'blockNumber': 6})\n",
      "unit address: 0x70997970C51812dc3A010C7d01b50e0d17dc79C8\n",
      "totalTaxDue: 0\n",
      "\n",
      "Event:  AttributeDict({'args': AttributeDict({'unitAddress': '0x70997970C51812dc3A010C7d01b50e0d17dc79C8', 'totalTaxDue': 745}), 'event': 'TaxSettlement', 'logIndex': 4, 'transactionIndex': 0, 'transactionHash': HexBytes('0x72bd646bbef1f20ef17c8763fdce8bec9155f47d11b4e2aefdf64a2038681704'), 'address': '0x5FC8d32690cc91D4c39d9d3abcBD16989F875707', 'blockHash': HexBytes('0xf727c35c2103b51cf88bdb16e4a947863e4f5a0b42211c97dcaa2535f571c6b1'), 'blockNumber': 8})\n",
      "unit address: 0x70997970C51812dc3A010C7d01b50e0d17dc79C8\n",
      "totalTaxDue: 745\n",
      "\n"
     ]
    }
   ],
   "source": [
    "# def getTaxes(private_key):\n",
    "\n",
    "#     account =  web3.eth.account.from_key(private_key)\n",
    "\n",
    "#     # 构建交易\n",
    "#     nonce = web3.eth.get_transaction_count(account.address)\n",
    "#     transaction = contract.functions.getTaxes().build_transaction({\n",
    "#         'from': account.address,\n",
    "#         'nonce': nonce,\n",
    "#     })\n",
    "#     print(\"transaction: \", transaction)\n",
    "\n",
    "#     submit_txn(private_key, transaction)\n",
    "\n",
    "def getTaxes(private_key):\n",
    "    account =  web3.eth.account.from_key(private_key)\n",
    "    print(\"Account: \", account)\n",
    "\n",
    "    # 获取最新区块\n",
    "    latest_block = web3.eth.block_number\n",
    "\n",
    "    # 定义事件过滤器，假设事件名为TaxCalculated\n",
    "    event_filter = contract.events.TaxSettlement.create_filter(\n",
    "        fromBlock=0,  # 可调整为特定区块范围\n",
    "        toBlock=latest_block,\n",
    "        argument_filters={'unitAddress': account.address}\n",
    "    )\n",
    "\n",
    "    # 获取事件日志\n",
    "    events = event_filter.get_all_entries()\n",
    "\n",
    "    for event in events:\n",
    "        print(\"Event: \", event)\n",
    "        print(\"unit address:\", event['args']['unitAddress'])\n",
    "        print(\"totalTaxDue:\", event['args']['totalTaxDue'])\n",
    "        print()\n",
    "\n",
    "getTaxes(unit_pk1)"
   ]
  },
  {
   "cell_type": "code",
   "execution_count": 93,
   "metadata": {},
   "outputs": [
    {
     "name": "stdout",
     "output_type": "stream",
     "text": [
      "account <eth_account.signers.local.LocalAccount object at 0x7f301af20550>\n",
      "account address 0x70997970C51812dc3A010C7d01b50e0d17dc79C8\n",
      "amount:  745\n",
      "745\n"
     ]
    },
    {
     "ename": "ContractCustomError",
     "evalue": "('0xfb8f41b20000000000000000000000005fc8d32690cc91d4c39d9d3abcbd16989f875707000000000000000000000000000000000000000000000000000000000000000000000000000000000000000000000000000000000000000000000000000002e9', '0xfb8f41b20000000000000000000000005fc8d32690cc91d4c39d9d3abcbd16989f875707000000000000000000000000000000000000000000000000000000000000000000000000000000000000000000000000000000000000000000000000000002e9')",
     "output_type": "error",
     "traceback": [
      "\u001b[0;31m---------------------------------------------------------------------------\u001b[0m",
      "\u001b[0;31mContractCustomError\u001b[0m                       Traceback (most recent call last)",
      "Cell \u001b[0;32mIn[93], line 28\u001b[0m\n\u001b[1;32m     24\u001b[0m     \u001b[38;5;28mprint\u001b[39m(\u001b[38;5;124m\"\u001b[39m\u001b[38;5;124mtransaction: \u001b[39m\u001b[38;5;124m\"\u001b[39m, transaction)\n\u001b[1;32m     26\u001b[0m     submit_txn(private_key, transaction)\n\u001b[0;32m---> 28\u001b[0m \u001b[43mpayTaxes\u001b[49m\u001b[43m(\u001b[49m\u001b[43munit_pk1\u001b[49m\u001b[43m,\u001b[49m\u001b[43m \u001b[49m\u001b[38;5;241;43m745\u001b[39;49m\u001b[43m)\u001b[49m\n",
      "Cell \u001b[0;32mIn[93], line 20\u001b[0m, in \u001b[0;36mpayTaxes\u001b[0;34m(private_key, amount)\u001b[0m\n\u001b[1;32m     18\u001b[0m     \u001b[38;5;28mprint\u001b[39m(\u001b[38;5;124m\"\u001b[39m\u001b[38;5;124merr:\u001b[39m\u001b[38;5;124m\"\u001b[39m, e)\n\u001b[1;32m     19\u001b[0m     \u001b[38;5;28;01mreturn\u001b[39;00m\n\u001b[0;32m---> 20\u001b[0m transaction \u001b[38;5;241m=\u001b[39m \u001b[43mcontract\u001b[49m\u001b[38;5;241;43m.\u001b[39;49m\u001b[43mfunctions\u001b[49m\u001b[38;5;241;43m.\u001b[39;49m\u001b[43mpayTaxes\u001b[49m\u001b[43m(\u001b[49m\u001b[43maccount\u001b[49m\u001b[38;5;241;43m.\u001b[39;49m\u001b[43maddress\u001b[49m\u001b[43m,\u001b[49m\u001b[43m \u001b[49m\u001b[43mamount\u001b[49m\u001b[43m,\u001b[49m\u001b[43m \u001b[49m\u001b[43mamount\u001b[49m\u001b[43m)\u001b[49m\u001b[38;5;241;43m.\u001b[39;49m\u001b[43mbuild_transaction\u001b[49m\u001b[43m(\u001b[49m\u001b[43m{\u001b[49m\n\u001b[1;32m     21\u001b[0m \u001b[43m    \u001b[49m\u001b[38;5;124;43m'\u001b[39;49m\u001b[38;5;124;43mfrom\u001b[39;49m\u001b[38;5;124;43m'\u001b[39;49m\u001b[43m:\u001b[49m\u001b[43m \u001b[49m\u001b[43maccount\u001b[49m\u001b[38;5;241;43m.\u001b[39;49m\u001b[43maddress\u001b[49m\u001b[43m,\u001b[49m\n\u001b[1;32m     22\u001b[0m \u001b[43m    \u001b[49m\u001b[38;5;124;43m'\u001b[39;49m\u001b[38;5;124;43mnonce\u001b[39;49m\u001b[38;5;124;43m'\u001b[39;49m\u001b[43m:\u001b[49m\u001b[43m \u001b[49m\u001b[43mnonce\u001b[49m\u001b[43m,\u001b[49m\n\u001b[1;32m     23\u001b[0m \u001b[43m\u001b[49m\u001b[43m}\u001b[49m\u001b[43m)\u001b[49m\n\u001b[1;32m     24\u001b[0m \u001b[38;5;28mprint\u001b[39m(\u001b[38;5;124m\"\u001b[39m\u001b[38;5;124mtransaction: \u001b[39m\u001b[38;5;124m\"\u001b[39m, transaction)\n\u001b[1;32m     26\u001b[0m submit_txn(private_key, transaction)\n",
      "File \u001b[0;32m~/.local/lib/python3.10/site-packages/web3/contract/contract.py:356\u001b[0m, in \u001b[0;36mContractFunction.build_transaction\u001b[0;34m(self, transaction)\u001b[0m\n\u001b[1;32m    354\u001b[0m \u001b[38;5;28;01mdef\u001b[39;00m \u001b[38;5;21mbuild_transaction\u001b[39m(\u001b[38;5;28mself\u001b[39m, transaction: Optional[TxParams] \u001b[38;5;241m=\u001b[39m \u001b[38;5;28;01mNone\u001b[39;00m) \u001b[38;5;241m-\u001b[39m\u001b[38;5;241m>\u001b[39m TxParams:\n\u001b[1;32m    355\u001b[0m     built_transaction \u001b[38;5;241m=\u001b[39m \u001b[38;5;28mself\u001b[39m\u001b[38;5;241m.\u001b[39m_build_transaction(transaction)\n\u001b[0;32m--> 356\u001b[0m     \u001b[38;5;28;01mreturn\u001b[39;00m \u001b[43mbuild_transaction_for_function\u001b[49m\u001b[43m(\u001b[49m\n\u001b[1;32m    357\u001b[0m \u001b[43m        \u001b[49m\u001b[38;5;28;43mself\u001b[39;49m\u001b[38;5;241;43m.\u001b[39;49m\u001b[43maddress\u001b[49m\u001b[43m,\u001b[49m\n\u001b[1;32m    358\u001b[0m \u001b[43m        \u001b[49m\u001b[38;5;28;43mself\u001b[39;49m\u001b[38;5;241;43m.\u001b[39;49m\u001b[43mw3\u001b[49m\u001b[43m,\u001b[49m\n\u001b[1;32m    359\u001b[0m \u001b[43m        \u001b[49m\u001b[38;5;28;43mself\u001b[39;49m\u001b[38;5;241;43m.\u001b[39;49m\u001b[43mfunction_identifier\u001b[49m\u001b[43m,\u001b[49m\n\u001b[1;32m    360\u001b[0m \u001b[43m        \u001b[49m\u001b[43mbuilt_transaction\u001b[49m\u001b[43m,\u001b[49m\n\u001b[1;32m    361\u001b[0m \u001b[43m        \u001b[49m\u001b[38;5;28;43mself\u001b[39;49m\u001b[38;5;241;43m.\u001b[39;49m\u001b[43mcontract_abi\u001b[49m\u001b[43m,\u001b[49m\n\u001b[1;32m    362\u001b[0m \u001b[43m        \u001b[49m\u001b[38;5;28;43mself\u001b[39;49m\u001b[38;5;241;43m.\u001b[39;49m\u001b[43mabi\u001b[49m\u001b[43m,\u001b[49m\n\u001b[1;32m    363\u001b[0m \u001b[43m        \u001b[49m\u001b[38;5;241;43m*\u001b[39;49m\u001b[38;5;28;43mself\u001b[39;49m\u001b[38;5;241;43m.\u001b[39;49m\u001b[43margs\u001b[49m\u001b[43m,\u001b[49m\n\u001b[1;32m    364\u001b[0m \u001b[43m        \u001b[49m\u001b[38;5;241;43m*\u001b[39;49m\u001b[38;5;241;43m*\u001b[39;49m\u001b[38;5;28;43mself\u001b[39;49m\u001b[38;5;241;43m.\u001b[39;49m\u001b[43mkwargs\u001b[49m\u001b[43m,\u001b[49m\n\u001b[1;32m    365\u001b[0m \u001b[43m    \u001b[49m\u001b[43m)\u001b[49m\n",
      "File \u001b[0;32m~/.local/lib/python3.10/site-packages/web3/contract/utils.py:233\u001b[0m, in \u001b[0;36mbuild_transaction_for_function\u001b[0;34m(address, w3, function_name, transaction, contract_abi, fn_abi, *args, **kwargs)\u001b[0m\n\u001b[1;32m    217\u001b[0m \u001b[38;5;250m\u001b[39m\u001b[38;5;124;03m\"\"\"Builds a dictionary with the fields required to make the given transaction\u001b[39;00m\n\u001b[1;32m    218\u001b[0m \n\u001b[1;32m    219\u001b[0m \u001b[38;5;124;03mDon't call this directly, instead use :meth:`Contract.build_transaction`\u001b[39;00m\n\u001b[1;32m    220\u001b[0m \u001b[38;5;124;03mon your contract instance.\u001b[39;00m\n\u001b[1;32m    221\u001b[0m \u001b[38;5;124;03m\"\"\"\u001b[39;00m\n\u001b[1;32m    222\u001b[0m prepared_transaction \u001b[38;5;241m=\u001b[39m prepare_transaction(\n\u001b[1;32m    223\u001b[0m     address,\n\u001b[1;32m    224\u001b[0m     w3,\n\u001b[0;32m   (...)\u001b[0m\n\u001b[1;32m    230\u001b[0m     fn_kwargs\u001b[38;5;241m=\u001b[39mkwargs,\n\u001b[1;32m    231\u001b[0m )\n\u001b[0;32m--> 233\u001b[0m prepared_transaction \u001b[38;5;241m=\u001b[39m \u001b[43mfill_transaction_defaults\u001b[49m\u001b[43m(\u001b[49m\u001b[43mw3\u001b[49m\u001b[43m,\u001b[49m\u001b[43m \u001b[49m\u001b[43mprepared_transaction\u001b[49m\u001b[43m)\u001b[49m\n\u001b[1;32m    235\u001b[0m \u001b[38;5;28;01mreturn\u001b[39;00m prepared_transaction\n",
      "File \u001b[0;32m~/.local/lib/python3.10/site-packages/cytoolz/functoolz.pyx:263\u001b[0m, in \u001b[0;36mcytoolz.functoolz.curry.__call__\u001b[0;34m()\u001b[0m\n",
      "File \u001b[0;32m~/.local/lib/python3.10/site-packages/web3/_utils/transactions.py:136\u001b[0m, in \u001b[0;36mfill_transaction_defaults\u001b[0;34m(w3, transaction)\u001b[0m\n\u001b[1;32m    132\u001b[0m     \u001b[38;5;28;01mif\u001b[39;00m w3 \u001b[38;5;129;01mis\u001b[39;00m \u001b[38;5;28;01mNone\u001b[39;00m:\n\u001b[1;32m    133\u001b[0m         \u001b[38;5;28;01mraise\u001b[39;00m \u001b[38;5;167;01mValueError\u001b[39;00m(\n\u001b[1;32m    134\u001b[0m             \u001b[38;5;124mf\u001b[39m\u001b[38;5;124m\"\u001b[39m\u001b[38;5;124mYou must specify a \u001b[39m\u001b[38;5;124m'\u001b[39m\u001b[38;5;132;01m{\u001b[39;00mkey\u001b[38;5;132;01m}\u001b[39;00m\u001b[38;5;124m'\u001b[39m\u001b[38;5;124m value in the transaction\u001b[39m\u001b[38;5;124m\"\u001b[39m\n\u001b[1;32m    135\u001b[0m         )\n\u001b[0;32m--> 136\u001b[0m     default_val \u001b[38;5;241m=\u001b[39m \u001b[43mdefault_getter\u001b[49m\u001b[43m(\u001b[49m\u001b[43mw3\u001b[49m\u001b[43m,\u001b[49m\u001b[43m \u001b[49m\u001b[43mtransaction\u001b[49m\u001b[43m)\u001b[49m\n\u001b[1;32m    137\u001b[0m \u001b[38;5;28;01melse\u001b[39;00m:\n\u001b[1;32m    138\u001b[0m     default_val \u001b[38;5;241m=\u001b[39m default_getter\n",
      "File \u001b[0;32m~/.local/lib/python3.10/site-packages/web3/_utils/transactions.py:76\u001b[0m, in \u001b[0;36m<lambda>\u001b[0;34m(w3, tx)\u001b[0m\n\u001b[1;32m     39\u001b[0m TX_PARAM_LITERALS \u001b[38;5;241m=\u001b[39m Literal[\n\u001b[1;32m     40\u001b[0m     \u001b[38;5;124m\"\u001b[39m\u001b[38;5;124mtype\u001b[39m\u001b[38;5;124m\"\u001b[39m,\n\u001b[1;32m     41\u001b[0m     \u001b[38;5;124m\"\u001b[39m\u001b[38;5;124mfrom\u001b[39m\u001b[38;5;124m\"\u001b[39m,\n\u001b[0;32m   (...)\u001b[0m\n\u001b[1;32m     53\u001b[0m     \u001b[38;5;124m\"\u001b[39m\u001b[38;5;124mblobVersionedHashes\u001b[39m\u001b[38;5;124m\"\u001b[39m,\n\u001b[1;32m     54\u001b[0m ]\n\u001b[1;32m     56\u001b[0m VALID_TRANSACTION_PARAMS: List[TX_PARAM_LITERALS] \u001b[38;5;241m=\u001b[39m [\n\u001b[1;32m     57\u001b[0m     \u001b[38;5;124m\"\u001b[39m\u001b[38;5;124mtype\u001b[39m\u001b[38;5;124m\"\u001b[39m,\n\u001b[1;32m     58\u001b[0m     \u001b[38;5;124m\"\u001b[39m\u001b[38;5;124mfrom\u001b[39m\u001b[38;5;124m\"\u001b[39m,\n\u001b[0;32m   (...)\u001b[0m\n\u001b[1;32m     70\u001b[0m     \u001b[38;5;124m\"\u001b[39m\u001b[38;5;124mblobVersionedHashes\u001b[39m\u001b[38;5;124m\"\u001b[39m,\n\u001b[1;32m     71\u001b[0m ]\n\u001b[1;32m     73\u001b[0m TRANSACTION_DEFAULTS \u001b[38;5;241m=\u001b[39m {\n\u001b[1;32m     74\u001b[0m     \u001b[38;5;124m\"\u001b[39m\u001b[38;5;124mvalue\u001b[39m\u001b[38;5;124m\"\u001b[39m: \u001b[38;5;241m0\u001b[39m,\n\u001b[1;32m     75\u001b[0m     \u001b[38;5;124m\"\u001b[39m\u001b[38;5;124mdata\u001b[39m\u001b[38;5;124m\"\u001b[39m: \u001b[38;5;124mb\u001b[39m\u001b[38;5;124m\"\u001b[39m\u001b[38;5;124m\"\u001b[39m,\n\u001b[0;32m---> 76\u001b[0m     \u001b[38;5;124m\"\u001b[39m\u001b[38;5;124mgas\u001b[39m\u001b[38;5;124m\"\u001b[39m: \u001b[38;5;28;01mlambda\u001b[39;00m w3, tx: \u001b[43mw3\u001b[49m\u001b[38;5;241;43m.\u001b[39;49m\u001b[43meth\u001b[49m\u001b[38;5;241;43m.\u001b[39;49m\u001b[43mestimate_gas\u001b[49m\u001b[43m(\u001b[49m\u001b[43mtx\u001b[49m\u001b[43m)\u001b[49m,\n\u001b[1;32m     77\u001b[0m     \u001b[38;5;124m\"\u001b[39m\u001b[38;5;124mgasPrice\u001b[39m\u001b[38;5;124m\"\u001b[39m: \u001b[38;5;28;01mlambda\u001b[39;00m w3, tx: w3\u001b[38;5;241m.\u001b[39meth\u001b[38;5;241m.\u001b[39mgenerate_gas_price(tx),\n\u001b[1;32m     78\u001b[0m     \u001b[38;5;124m\"\u001b[39m\u001b[38;5;124mmaxFeePerGas\u001b[39m\u001b[38;5;124m\"\u001b[39m: (\n\u001b[1;32m     79\u001b[0m         \u001b[38;5;28;01mlambda\u001b[39;00m w3, tx: w3\u001b[38;5;241m.\u001b[39meth\u001b[38;5;241m.\u001b[39mmax_priority_fee\n\u001b[1;32m     80\u001b[0m         \u001b[38;5;241m+\u001b[39m (\u001b[38;5;241m2\u001b[39m \u001b[38;5;241m*\u001b[39m w3\u001b[38;5;241m.\u001b[39meth\u001b[38;5;241m.\u001b[39mget_block(\u001b[38;5;124m\"\u001b[39m\u001b[38;5;124mlatest\u001b[39m\u001b[38;5;124m\"\u001b[39m)[\u001b[38;5;124m\"\u001b[39m\u001b[38;5;124mbaseFeePerGas\u001b[39m\u001b[38;5;124m\"\u001b[39m])\n\u001b[1;32m     81\u001b[0m     ),\n\u001b[1;32m     82\u001b[0m     \u001b[38;5;124m\"\u001b[39m\u001b[38;5;124mmaxPriorityFeePerGas\u001b[39m\u001b[38;5;124m\"\u001b[39m: \u001b[38;5;28;01mlambda\u001b[39;00m w3, tx: w3\u001b[38;5;241m.\u001b[39meth\u001b[38;5;241m.\u001b[39mmax_priority_fee,\n\u001b[1;32m     83\u001b[0m     \u001b[38;5;124m\"\u001b[39m\u001b[38;5;124mchainId\u001b[39m\u001b[38;5;124m\"\u001b[39m: \u001b[38;5;28;01mlambda\u001b[39;00m w3, tx: w3\u001b[38;5;241m.\u001b[39meth\u001b[38;5;241m.\u001b[39mchain_id,\n\u001b[1;32m     84\u001b[0m }\n\u001b[1;32m     86\u001b[0m \u001b[38;5;28;01mif\u001b[39;00m TYPE_CHECKING:\n\u001b[1;32m     87\u001b[0m     \u001b[38;5;28;01mfrom\u001b[39;00m \u001b[38;5;21;01mweb3\u001b[39;00m \u001b[38;5;28;01mimport\u001b[39;00m (  \u001b[38;5;66;03m# noqa: F401\u001b[39;00m\n\u001b[1;32m     88\u001b[0m         AsyncWeb3,\n\u001b[1;32m     89\u001b[0m         Web3,\n\u001b[1;32m     90\u001b[0m     )\n",
      "File \u001b[0;32m~/.local/lib/python3.10/site-packages/web3/eth/eth.py:316\u001b[0m, in \u001b[0;36mEth.estimate_gas\u001b[0;34m(self, transaction, block_identifier, state_override)\u001b[0m\n\u001b[1;32m    310\u001b[0m \u001b[38;5;28;01mdef\u001b[39;00m \u001b[38;5;21mestimate_gas\u001b[39m(\n\u001b[1;32m    311\u001b[0m     \u001b[38;5;28mself\u001b[39m,\n\u001b[1;32m    312\u001b[0m     transaction: TxParams,\n\u001b[1;32m    313\u001b[0m     block_identifier: Optional[BlockIdentifier] \u001b[38;5;241m=\u001b[39m \u001b[38;5;28;01mNone\u001b[39;00m,\n\u001b[1;32m    314\u001b[0m     state_override: Optional[CallOverride] \u001b[38;5;241m=\u001b[39m \u001b[38;5;28;01mNone\u001b[39;00m,\n\u001b[1;32m    315\u001b[0m ) \u001b[38;5;241m-\u001b[39m\u001b[38;5;241m>\u001b[39m \u001b[38;5;28mint\u001b[39m:\n\u001b[0;32m--> 316\u001b[0m     \u001b[38;5;28;01mreturn\u001b[39;00m \u001b[38;5;28;43mself\u001b[39;49m\u001b[38;5;241;43m.\u001b[39;49m\u001b[43m_estimate_gas\u001b[49m\u001b[43m(\u001b[49m\u001b[43mtransaction\u001b[49m\u001b[43m,\u001b[49m\u001b[43m \u001b[49m\u001b[43mblock_identifier\u001b[49m\u001b[43m,\u001b[49m\u001b[43m \u001b[49m\u001b[43mstate_override\u001b[49m\u001b[43m)\u001b[49m\n",
      "File \u001b[0;32m~/.local/lib/python3.10/site-packages/web3/module.py:75\u001b[0m, in \u001b[0;36mretrieve_blocking_method_call_fn.<locals>.caller\u001b[0;34m(*args, **kwargs)\u001b[0m\n\u001b[1;32m     68\u001b[0m     \u001b[38;5;28;01mreturn\u001b[39;00m LogFilter(eth_module\u001b[38;5;241m=\u001b[39mmodule, filter_id\u001b[38;5;241m=\u001b[39merr\u001b[38;5;241m.\u001b[39mfilter_id)\n\u001b[1;32m     70\u001b[0m (\n\u001b[1;32m     71\u001b[0m     result_formatters,\n\u001b[1;32m     72\u001b[0m     error_formatters,\n\u001b[1;32m     73\u001b[0m     null_result_formatters,\n\u001b[1;32m     74\u001b[0m ) \u001b[38;5;241m=\u001b[39m response_formatters\n\u001b[0;32m---> 75\u001b[0m result \u001b[38;5;241m=\u001b[39m \u001b[43mw3\u001b[49m\u001b[38;5;241;43m.\u001b[39;49m\u001b[43mmanager\u001b[49m\u001b[38;5;241;43m.\u001b[39;49m\u001b[43mrequest_blocking\u001b[49m\u001b[43m(\u001b[49m\n\u001b[1;32m     76\u001b[0m \u001b[43m    \u001b[49m\u001b[43mmethod_str\u001b[49m\u001b[43m,\u001b[49m\u001b[43m \u001b[49m\u001b[43mparams\u001b[49m\u001b[43m,\u001b[49m\u001b[43m \u001b[49m\u001b[43merror_formatters\u001b[49m\u001b[43m,\u001b[49m\u001b[43m \u001b[49m\u001b[43mnull_result_formatters\u001b[49m\n\u001b[1;32m     77\u001b[0m \u001b[43m\u001b[49m\u001b[43m)\u001b[49m\n\u001b[1;32m     78\u001b[0m \u001b[38;5;28;01mreturn\u001b[39;00m apply_result_formatters(result_formatters, result)\n",
      "File \u001b[0;32m~/.local/lib/python3.10/site-packages/web3/manager.py:329\u001b[0m, in \u001b[0;36mRequestManager.request_blocking\u001b[0;34m(self, method, params, error_formatters, null_result_formatters)\u001b[0m\n\u001b[1;32m    325\u001b[0m \u001b[38;5;250m\u001b[39m\u001b[38;5;124;03m\"\"\"\u001b[39;00m\n\u001b[1;32m    326\u001b[0m \u001b[38;5;124;03mMake a synchronous request using the provider\u001b[39;00m\n\u001b[1;32m    327\u001b[0m \u001b[38;5;124;03m\"\"\"\u001b[39;00m\n\u001b[1;32m    328\u001b[0m response \u001b[38;5;241m=\u001b[39m \u001b[38;5;28mself\u001b[39m\u001b[38;5;241m.\u001b[39m_make_request(method, params)\n\u001b[0;32m--> 329\u001b[0m \u001b[38;5;28;01mreturn\u001b[39;00m \u001b[38;5;28;43mself\u001b[39;49m\u001b[38;5;241;43m.\u001b[39;49m\u001b[43mformatted_response\u001b[49m\u001b[43m(\u001b[49m\n\u001b[1;32m    330\u001b[0m \u001b[43m    \u001b[49m\u001b[43mresponse\u001b[49m\u001b[43m,\u001b[49m\u001b[43m \u001b[49m\u001b[43mparams\u001b[49m\u001b[43m,\u001b[49m\u001b[43m \u001b[49m\u001b[43merror_formatters\u001b[49m\u001b[43m,\u001b[49m\u001b[43m \u001b[49m\u001b[43mnull_result_formatters\u001b[49m\n\u001b[1;32m    331\u001b[0m \u001b[43m\u001b[49m\u001b[43m)\u001b[49m\n",
      "File \u001b[0;32m~/.local/lib/python3.10/site-packages/web3/manager.py:290\u001b[0m, in \u001b[0;36mRequestManager.formatted_response\u001b[0;34m(response, params, error_formatters, null_result_formatters)\u001b[0m\n\u001b[1;32m    285\u001b[0m     \u001b[38;5;28;01mif\u001b[39;00m \u001b[38;5;129;01mnot\u001b[39;00m \u001b[38;5;28misinstance\u001b[39m(error\u001b[38;5;241m.\u001b[39mget(\u001b[38;5;124m\"\u001b[39m\u001b[38;5;124mmessage\u001b[39m\u001b[38;5;124m\"\u001b[39m), \u001b[38;5;28mstr\u001b[39m):\n\u001b[1;32m    286\u001b[0m         _raise_bad_response_format(\n\u001b[1;32m    287\u001b[0m             response, \u001b[38;5;124m\"\u001b[39m\u001b[38;5;124merror[\u001b[39m\u001b[38;5;124m'\u001b[39m\u001b[38;5;124mmessage\u001b[39m\u001b[38;5;124m'\u001b[39m\u001b[38;5;124m] must be a string\u001b[39m\u001b[38;5;124m\"\u001b[39m\n\u001b[1;32m    288\u001b[0m         )\n\u001b[0;32m--> 290\u001b[0m     \u001b[43mapply_error_formatters\u001b[49m\u001b[43m(\u001b[49m\u001b[43merror_formatters\u001b[49m\u001b[43m,\u001b[49m\u001b[43m \u001b[49m\u001b[43mresponse\u001b[49m\u001b[43m)\u001b[49m\n\u001b[1;32m    292\u001b[0m     \u001b[38;5;28;01mraise\u001b[39;00m \u001b[38;5;167;01mValueError\u001b[39;00m(error)\n\u001b[1;32m    294\u001b[0m \u001b[38;5;66;03m# Format and validate results\u001b[39;00m\n",
      "File \u001b[0;32m~/.local/lib/python3.10/site-packages/web3/manager.py:103\u001b[0m, in \u001b[0;36mapply_error_formatters\u001b[0;34m(error_formatters, response)\u001b[0m\n\u001b[1;32m     98\u001b[0m \u001b[38;5;28;01mdef\u001b[39;00m \u001b[38;5;21mapply_error_formatters\u001b[39m(\n\u001b[1;32m     99\u001b[0m     error_formatters: Callable[\u001b[38;5;241m.\u001b[39m\u001b[38;5;241m.\u001b[39m\u001b[38;5;241m.\u001b[39m, Any],\n\u001b[1;32m    100\u001b[0m     response: RPCResponse,\n\u001b[1;32m    101\u001b[0m ) \u001b[38;5;241m-\u001b[39m\u001b[38;5;241m>\u001b[39m RPCResponse:\n\u001b[1;32m    102\u001b[0m     \u001b[38;5;28;01mif\u001b[39;00m error_formatters:\n\u001b[0;32m--> 103\u001b[0m         formatted_resp \u001b[38;5;241m=\u001b[39m \u001b[43mpipe\u001b[49m\u001b[43m(\u001b[49m\u001b[43mresponse\u001b[49m\u001b[43m,\u001b[49m\u001b[43m \u001b[49m\u001b[43merror_formatters\u001b[49m\u001b[43m)\u001b[49m\n\u001b[1;32m    104\u001b[0m         \u001b[38;5;28;01mreturn\u001b[39;00m formatted_resp\n\u001b[1;32m    105\u001b[0m     \u001b[38;5;28;01melse\u001b[39;00m:\n",
      "File \u001b[0;32m~/.local/lib/python3.10/site-packages/cytoolz/functoolz.pyx:680\u001b[0m, in \u001b[0;36mcytoolz.functoolz.pipe\u001b[0;34m()\u001b[0m\n",
      "File \u001b[0;32m~/.local/lib/python3.10/site-packages/cytoolz/functoolz.pyx:655\u001b[0m, in \u001b[0;36mcytoolz.functoolz.c_pipe\u001b[0;34m()\u001b[0m\n",
      "File \u001b[0;32m~/.local/lib/python3.10/site-packages/web3/_utils/error_formatters_utils.py:157\u001b[0m, in \u001b[0;36mraise_contract_logic_error_on_revert\u001b[0;34m(response)\u001b[0m\n\u001b[1;32m    155\u001b[0m     \u001b[38;5;28;01mraise\u001b[39;00m ContractLogicError(\u001b[38;5;124mf\u001b[39m\u001b[38;5;124m\"\u001b[39m\u001b[38;5;124mexecution reverted: \u001b[39m\u001b[38;5;132;01m{\u001b[39;00mmessage\u001b[38;5;132;01m}\u001b[39;00m\u001b[38;5;124m\"\u001b[39m, data\u001b[38;5;241m=\u001b[39mdata)\n\u001b[1;32m    156\u001b[0m \u001b[38;5;28;01melif\u001b[39;00m \u001b[38;5;28misinstance\u001b[39m(data, \u001b[38;5;28mstr\u001b[39m):\n\u001b[0;32m--> 157\u001b[0m     \u001b[43m_raise_contract_error\u001b[49m\u001b[43m(\u001b[49m\u001b[43mdata\u001b[49m\u001b[43m)\u001b[49m\n\u001b[1;32m    159\u001b[0m \u001b[38;5;28;01mif\u001b[39;00m message_present:\n\u001b[1;32m    160\u001b[0m     \u001b[38;5;66;03m# Geth Revert with error message and code 3 case:\u001b[39;00m\n\u001b[1;32m    161\u001b[0m     \u001b[38;5;28;01mif\u001b[39;00m error\u001b[38;5;241m.\u001b[39mget(\u001b[38;5;124m\"\u001b[39m\u001b[38;5;124mcode\u001b[39m\u001b[38;5;124m\"\u001b[39m) \u001b[38;5;241m==\u001b[39m \u001b[38;5;241m3\u001b[39m:\n",
      "File \u001b[0;32m~/.local/lib/python3.10/site-packages/web3/_utils/error_formatters_utils.py:129\u001b[0m, in \u001b[0;36m_raise_contract_error\u001b[0;34m(response_error_data)\u001b[0m\n\u001b[1;32m    119\u001b[0m \u001b[38;5;66;03m# Solidity 0.8.4 introduced custom error messages that allow args to\u001b[39;00m\n\u001b[1;32m    120\u001b[0m \u001b[38;5;66;03m# be passed in (or not). See:\u001b[39;00m\n\u001b[1;32m    121\u001b[0m \u001b[38;5;66;03m# https://blog.soliditylang.org/2021/04/21/custom-errors/\u001b[39;00m\n\u001b[1;32m    122\u001b[0m \u001b[38;5;28;01melif\u001b[39;00m (\n\u001b[1;32m    123\u001b[0m     \u001b[38;5;28mlen\u001b[39m(response_error_data) \u001b[38;5;241m>\u001b[39m\u001b[38;5;241m=\u001b[39m \u001b[38;5;241m10\u001b[39m\n\u001b[1;32m    124\u001b[0m     \u001b[38;5;129;01mand\u001b[39;00m \u001b[38;5;129;01mnot\u001b[39;00m response_error_data[:\u001b[38;5;241m10\u001b[39m] \u001b[38;5;241m==\u001b[39m SOLIDITY_ERROR_FUNC_SELECTOR\n\u001b[0;32m   (...)\u001b[0m\n\u001b[1;32m    127\u001b[0m     \u001b[38;5;66;03m# compatibility and so that data can be accessed via 'data' attribute\u001b[39;00m\n\u001b[1;32m    128\u001b[0m     \u001b[38;5;66;03m# on the ContractCustomError exception\u001b[39;00m\n\u001b[0;32m--> 129\u001b[0m     \u001b[38;5;28;01mraise\u001b[39;00m ContractCustomError(response_error_data, data\u001b[38;5;241m=\u001b[39mresponse_error_data)\n",
      "\u001b[0;31mContractCustomError\u001b[0m: ('0xfb8f41b20000000000000000000000005fc8d32690cc91d4c39d9d3abcbd16989f875707000000000000000000000000000000000000000000000000000000000000000000000000000000000000000000000000000000000000000000000000000002e9', '0xfb8f41b20000000000000000000000005fc8d32690cc91d4c39d9d3abcbd16989f875707000000000000000000000000000000000000000000000000000000000000000000000000000000000000000000000000000000000000000000000000000002e9')"
     ]
    }
   ],
   "source": [
    "def payTaxes(private_key, amount):\n",
    "\n",
    "    account =  web3.eth.account.from_key(private_key)\n",
    "    print(\"account\", account)\n",
    "    print(\"account address\", account.address)\n",
    "    print(\"amount: \", amount)\n",
    "\n",
    "    # 构建交易\n",
    "    nonce = web3.eth.get_transaction_count(account.address)\n",
    "    try:\n",
    "        # rmbtk_contract.functions.approve(taxmgr_contract_address, amount).transact({'from': account.address})\n",
    "        # txhash=taxtk_contract.functions.approve(taxmgr_contract_address, amount).transact({'from': account.address})\n",
    "        # # print(rmbtk_contract.functions.allowance(taxmgr_contract_address, amount).call())\n",
    "        # tx_receipt = web3.eth.wait_for_transaction_receipt(txhash)\n",
    "        # print(\"tx_receipt:\", tx_receipt)\n",
    "        print(taxtk_contract.functions.allowance(account.address, taxmgr_contract_address).call())\n",
    "        transaction = contract.functions.payTaxes(account.address, amount, amount).build_transaction({\n",
    "            'from': account.address,\n",
    "            'nonce': nonce,\n",
    "        })\n",
    "    except Exception as e:\n",
    "        print(\"err:\", e)\n",
    "        return\n",
    "    print(\"transaction: \", transaction)\n",
    "\n",
    "    submit_txn(private_key, transaction)\n",
    "\n",
    "payTaxes(unit_pk1, 745)"
   ]
  },
  {
   "cell_type": "code",
   "execution_count": null,
   "metadata": {},
   "outputs": [],
   "source": []
  }
 ],
 "metadata": {
  "kernelspec": {
   "display_name": ".venv",
   "language": "python",
   "name": "python3"
  },
  "language_info": {
   "codemirror_mode": {
    "name": "ipython",
    "version": 3
   },
   "file_extension": ".py",
   "mimetype": "text/x-python",
   "name": "python",
   "nbconvert_exporter": "python",
   "pygments_lexer": "ipython3",
   "version": "3.10.12"
  }
 },
 "nbformat": 4,
 "nbformat_minor": 2
}
